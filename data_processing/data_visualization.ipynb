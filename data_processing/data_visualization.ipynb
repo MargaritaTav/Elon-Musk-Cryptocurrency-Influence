{
 "cells": [
  {
   "cell_type": "code",
   "execution_count": 17,
   "id": "36c334de",
   "metadata": {},
   "outputs": [
    {
     "name": "stdout",
     "output_type": "stream",
     "text": [
      "Requirement already satisfied: telethon in /Users/Admin/anaconda3/lib/python3.9/site-packages (1.28.5)\n",
      "Requirement already satisfied: rsa in /Users/Admin/anaconda3/lib/python3.9/site-packages (from telethon) (4.9)\n",
      "Requirement already satisfied: pyaes in /Users/Admin/anaconda3/lib/python3.9/site-packages (from telethon) (1.6.1)\n",
      "Requirement already satisfied: pyasn1>=0.1.3 in /Users/Admin/anaconda3/lib/python3.9/site-packages (from rsa->telethon) (0.4.8)\n",
      "",
      ""
     ]
    }
   ],
   "source": [
    "import os\n",
    "import numpy as np\n",
    "import pandas as pd\n",
    "import random\n",
    "import matplotlib.pyplot as plt\n",
    "import seaborn as sns\n",
    "import matplotlib.pyplot as plt\n",
    "from sklearn import preprocessing\n",
    "%matplotlib inline\n",
    "import folium\n",
    "from folium import plugins \n",
    "from folium.plugins import HeatMap\n",
    "from tqdm import tqdm\n",
    "import plotly.express as px\n",
    "import plotly.graph_objects as go\n",
    "from plotly.subplots import make_subplots\n",
    "\n",
    "! pip install telethon\n",
    "\n",
    "from telethon.sync import TelegramClient\n",
    "\n",
    "name = 'anon' \n",
    "api_id = input()\n",
    "api_hash = input() \n",
    "chat = 't.me/elonmusktwitter'\n",
    "\n",
    "data = [] \n",
    "\n",
    "async with TelegramClient(name, api_id, api_hash) as client:\n",
    "    async for message in client.iter_messages(chat):\n",
    "        data.append([message.sender_id, message.text, message.date])\n",
    "\n",
    "\n",
    "df = pd.DataFrame(data, columns=['SENDER', 'MESSAGE', 'DATE'])\n",
    "\n",
    "btc_dataset = pd.read_csv(\"/Users/Admin/Desktop/Elon-Musk-Cryptocurrency-Influence-main/BTC-Hourly.csv\")"
   ]
  },
  {
   "cell_type": "code",
   "execution_count": 18,
   "id": "3008f494",
   "metadata": {},
   "outputs": [
    {
     "data": {
      "text/html": [
       "<div>\n",
       "<style scoped>\n",
       "    .dataframe tbody tr th:only-of-type {\n",
       "        vertical-align: middle;\n",
       "    }\n",
       "\n",
       "    .dataframe tbody tr th {\n",
       "        vertical-align: top;\n",
       "    }\n",
       "\n",
       "    .dataframe thead th {\n",
       "        text-align: right;\n",
       "    }\n",
       "</style>\n",
       "<table border=\"1\" class=\"dataframe\">\n",
       "  <thead>\n",
       "    <tr style=\"text-align: right;\">\n",
       "      <th></th>\n",
       "      <th>unix</th>\n",
       "      <th>date</th>\n",
       "      <th>symbol</th>\n",
       "      <th>open</th>\n",
       "      <th>high</th>\n",
       "      <th>low</th>\n",
       "      <th>close</th>\n",
       "      <th>Volume BTC</th>\n",
       "      <th>Volume USD</th>\n",
       "    </tr>\n",
       "  </thead>\n",
       "  <tbody>\n",
       "    <tr>\n",
       "      <th>0</th>\n",
       "      <td>1646092800</td>\n",
       "      <td>2022-03-01 00:00:00</td>\n",
       "      <td>BTC/USD</td>\n",
       "      <td>43221.71</td>\n",
       "      <td>43626.49</td>\n",
       "      <td>43185.48</td>\n",
       "      <td>43312.27</td>\n",
       "      <td>52.056320</td>\n",
       "      <td>2.254677e+06</td>\n",
       "    </tr>\n",
       "    <tr>\n",
       "      <th>1</th>\n",
       "      <td>1646089200</td>\n",
       "      <td>2022-02-28 23:00:00</td>\n",
       "      <td>BTC/USD</td>\n",
       "      <td>43085.30</td>\n",
       "      <td>43364.81</td>\n",
       "      <td>42892.37</td>\n",
       "      <td>43178.98</td>\n",
       "      <td>106.816103</td>\n",
       "      <td>4.612210e+06</td>\n",
       "    </tr>\n",
       "    <tr>\n",
       "      <th>2</th>\n",
       "      <td>1646085600</td>\n",
       "      <td>2022-02-28 22:00:00</td>\n",
       "      <td>BTC/USD</td>\n",
       "      <td>41657.23</td>\n",
       "      <td>44256.08</td>\n",
       "      <td>41650.29</td>\n",
       "      <td>42907.32</td>\n",
       "      <td>527.540571</td>\n",
       "      <td>2.263535e+07</td>\n",
       "    </tr>\n",
       "    <tr>\n",
       "      <th>3</th>\n",
       "      <td>1646082000</td>\n",
       "      <td>2022-02-28 21:00:00</td>\n",
       "      <td>BTC/USD</td>\n",
       "      <td>41917.09</td>\n",
       "      <td>41917.09</td>\n",
       "      <td>41542.60</td>\n",
       "      <td>41659.53</td>\n",
       "      <td>69.751680</td>\n",
       "      <td>2.905822e+06</td>\n",
       "    </tr>\n",
       "    <tr>\n",
       "      <th>4</th>\n",
       "      <td>1646078400</td>\n",
       "      <td>2022-02-28 20:00:00</td>\n",
       "      <td>BTC/USD</td>\n",
       "      <td>41361.99</td>\n",
       "      <td>41971.00</td>\n",
       "      <td>41284.11</td>\n",
       "      <td>41914.97</td>\n",
       "      <td>247.151654</td>\n",
       "      <td>1.035935e+07</td>\n",
       "    </tr>\n",
       "  </tbody>\n",
       "</table>\n",
       "</div>"
      ],
      "text/plain": [
       "         unix                 date   symbol      open      high       low  \\\n",
       "0  1646092800  2022-03-01 00:00:00  BTC/USD  43221.71  43626.49  43185.48   \n",
       "1  1646089200  2022-02-28 23:00:00  BTC/USD  43085.30  43364.81  42892.37   \n",
       "2  1646085600  2022-02-28 22:00:00  BTC/USD  41657.23  44256.08  41650.29   \n",
       "3  1646082000  2022-02-28 21:00:00  BTC/USD  41917.09  41917.09  41542.60   \n",
       "4  1646078400  2022-02-28 20:00:00  BTC/USD  41361.99  41971.00  41284.11   \n",
       "\n",
       "      close  Volume BTC    Volume USD  \n",
       "0  43312.27   52.056320  2.254677e+06  \n",
       "1  43178.98  106.816103  4.612210e+06  \n",
       "2  42907.32  527.540571  2.263535e+07  \n",
       "3  41659.53   69.751680  2.905822e+06  \n",
       "4  41914.97  247.151654  1.035935e+07  "
      ]
     },
     "execution_count": 18,
     "metadata": {},
     "output_type": "execute_result"
    }
   ],
   "source": [
    "btc_dataset.head()"
   ]
  },
  {
   "cell_type": "code",
   "execution_count": 38,
   "id": "5a9c5a5d",
   "metadata": {},
   "outputs": [
    {
     "data": {
      "text/html": [
       "<div>\n",
       "<style scoped>\n",
       "    .dataframe tbody tr th:only-of-type {\n",
       "        vertical-align: middle;\n",
       "    }\n",
       "\n",
       "    .dataframe tbody tr th {\n",
       "        vertical-align: top;\n",
       "    }\n",
       "\n",
       "    .dataframe thead th {\n",
       "        text-align: right;\n",
       "    }\n",
       "</style>\n",
       "<table border=\"1\" class=\"dataframe\">\n",
       "  <thead>\n",
       "    <tr style=\"text-align: right;\">\n",
       "      <th></th>\n",
       "      <th>SENDER</th>\n",
       "      <th>MESSAGE</th>\n",
       "      <th>date</th>\n",
       "      <th>mean_price_before</th>\n",
       "      <th>mean_price_after</th>\n",
       "    </tr>\n",
       "  </thead>\n",
       "  <tbody>\n",
       "    <tr>\n",
       "      <th>20383</th>\n",
       "      <td>-1001153434921</td>\n",
       "      <td>None</td>\n",
       "      <td>2018-09-21 05:00:00</td>\n",
       "      <td>6480.199167</td>\n",
       "      <td>6693.194167</td>\n",
       "    </tr>\n",
       "    <tr>\n",
       "      <th>20380</th>\n",
       "      <td>-1001153434921</td>\n",
       "      <td>I love science, bitch!</td>\n",
       "      <td>2018-09-21 05:00:00</td>\n",
       "      <td>6480.199167</td>\n",
       "      <td>6693.194167</td>\n",
       "    </tr>\n",
       "    <tr>\n",
       "      <th>20382</th>\n",
       "      <td>-1001153434921</td>\n",
       "      <td>None</td>\n",
       "      <td>2018-09-21 05:00:00</td>\n",
       "      <td>6480.199167</td>\n",
       "      <td>6693.194167</td>\n",
       "    </tr>\n",
       "    <tr>\n",
       "      <th>20381</th>\n",
       "      <td>-1001153434921</td>\n",
       "      <td></td>\n",
       "      <td>2018-09-21 05:00:00</td>\n",
       "      <td>6480.199167</td>\n",
       "      <td>6693.194167</td>\n",
       "    </tr>\n",
       "    <tr>\n",
       "      <th>20379</th>\n",
       "      <td>-1001153434921</td>\n",
       "      <td>Here's a [@Tesla](https://twitter.com/Tesla?re...</td>\n",
       "      <td>2018-09-21 19:00:00</td>\n",
       "      <td>6708.921667</td>\n",
       "      <td>6736.284167</td>\n",
       "    </tr>\n",
       "  </tbody>\n",
       "</table>\n",
       "</div>"
      ],
      "text/plain": [
       "              SENDER                                            MESSAGE  \\\n",
       "20383 -1001153434921                                               None   \n",
       "20380 -1001153434921                             I love science, bitch!   \n",
       "20382 -1001153434921                                               None   \n",
       "20381 -1001153434921                                                      \n",
       "20379 -1001153434921  Here's a [@Tesla](https://twitter.com/Tesla?re...   \n",
       "\n",
       "                      date  mean_price_before  mean_price_after  \n",
       "20383  2018-09-21 05:00:00        6480.199167       6693.194167  \n",
       "20380  2018-09-21 05:00:00        6480.199167       6693.194167  \n",
       "20382  2018-09-21 05:00:00        6480.199167       6693.194167  \n",
       "20381  2018-09-21 05:00:00        6480.199167       6693.194167  \n",
       "20379  2018-09-21 19:00:00        6708.921667       6736.284167  "
      ]
     },
     "execution_count": 38,
     "metadata": {},
     "output_type": "execute_result"
    }
   ],
   "source": [
    "df['DATE'] = df['DATE'].dt.floor('H')\n",
    "df['DATE'] = df['DATE'].dt.strftime(\"%Y-%m-%d %H:%M:%S\")\n",
    "df.rename(columns={'DATE': 'date'}, inplace=True)\n",
    "df.head()"
   ]
  },
  {
   "cell_type": "code",
   "execution_count": 43,
   "id": "ca0cb25f",
   "metadata": {},
   "outputs": [],
   "source": [
    "df['MESSAGE'].fillna('', inplace=True)\n",
    "keywords = ['Bitcoin', 'BTC', 'Crypto', 'Cryptocurrency', 'Dogecoin', 'Bit coin', 'Cryptomarket']\n",
    "\n",
    "filtered_dataset = df[df['MESSAGE'].str.contains('|'.join(keywords), case=False)]"
   ]
  },
  {
   "cell_type": "code",
   "execution_count": 48,
   "id": "b1048af5",
   "metadata": {},
   "outputs": [
    {
     "data": {
      "text/html": [
       "<div>\n",
       "<style scoped>\n",
       "    .dataframe tbody tr th:only-of-type {\n",
       "        vertical-align: middle;\n",
       "    }\n",
       "\n",
       "    .dataframe tbody tr th {\n",
       "        vertical-align: top;\n",
       "    }\n",
       "\n",
       "    .dataframe thead th {\n",
       "        text-align: right;\n",
       "    }\n",
       "</style>\n",
       "<table border=\"1\" class=\"dataframe\">\n",
       "  <thead>\n",
       "    <tr style=\"text-align: right;\">\n",
       "      <th></th>\n",
       "      <th>SENDER</th>\n",
       "      <th>MESSAGE</th>\n",
       "      <th>date</th>\n",
       "    </tr>\n",
       "  </thead>\n",
       "  <tbody>\n",
       "    <tr>\n",
       "      <th>19552</th>\n",
       "      <td>-1001153434921</td>\n",
       "      <td>Whoever owns the early BTC deserves a Nobel pr...</td>\n",
       "      <td>2019-02-21 10:00:00</td>\n",
       "    </tr>\n",
       "    <tr>\n",
       "      <th>19553</th>\n",
       "      <td>-1001153434921</td>\n",
       "      <td>That said, I still only own 0.25 BTC, which a ...</td>\n",
       "      <td>2019-02-21 10:00:00</td>\n",
       "    </tr>\n",
       "    <tr>\n",
       "      <th>19122</th>\n",
       "      <td>-1001153434921</td>\n",
       "      <td>Dogecoin might be my fav cryptocurrency. It’s ...</td>\n",
       "      <td>2019-04-02 09:00:00</td>\n",
       "    </tr>\n",
       "    <tr>\n",
       "      <th>19120</th>\n",
       "      <td>-1001153434921</td>\n",
       "      <td>Dogecoin rulz [pic.twitter.com/flWWUgAgLU](htt...</td>\n",
       "      <td>2019-04-02 20:00:00</td>\n",
       "    </tr>\n",
       "    <tr>\n",
       "      <th>19118</th>\n",
       "      <td>-1001153434921</td>\n",
       "      <td>Dogecoin value may vary [https://t.co/UWerAhPv...</td>\n",
       "      <td>2019-04-02 20:00:00</td>\n",
       "    </tr>\n",
       "    <tr>\n",
       "      <th>...</th>\n",
       "      <td>...</td>\n",
       "      <td>...</td>\n",
       "      <td>...</td>\n",
       "    </tr>\n",
       "    <tr>\n",
       "      <th>1665</th>\n",
       "      <td>-1001153434921</td>\n",
       "      <td>@LordTJCrypto Nice— Elon Musk (@elonmusk) [Apr...</td>\n",
       "      <td>2023-04-10 21:00:00</td>\n",
       "    </tr>\n",
       "    <tr>\n",
       "      <th>1586</th>\n",
       "      <td>-1001153434921</td>\n",
       "      <td>@cb_doge @dvorahfr I will pay a million Dogeco...</td>\n",
       "      <td>2023-04-12 22:00:00</td>\n",
       "    </tr>\n",
       "    <tr>\n",
       "      <th>1494</th>\n",
       "      <td>-1001153434921</td>\n",
       "      <td>@crypto_birb 💯— Elon Musk (@elonmusk) [Apr 14,...</td>\n",
       "      <td>2023-04-14 07:00:00</td>\n",
       "    </tr>\n",
       "    <tr>\n",
       "      <th>1139</th>\n",
       "      <td>-1001153434921</td>\n",
       "      <td>@carlabitcoin Beautiful— Elon Musk (@elonmusk)...</td>\n",
       "      <td>2023-04-22 05:00:00</td>\n",
       "    </tr>\n",
       "    <tr>\n",
       "      <th>1080</th>\n",
       "      <td>-1001153434921</td>\n",
       "      <td>@DogecoinNorway Or, at least, that’s what Snor...</td>\n",
       "      <td>2023-04-23 14:00:00</td>\n",
       "    </tr>\n",
       "  </tbody>\n",
       "</table>\n",
       "<p>143 rows × 3 columns</p>\n",
       "</div>"
      ],
      "text/plain": [
       "              SENDER                                            MESSAGE  \\\n",
       "19552 -1001153434921  Whoever owns the early BTC deserves a Nobel pr...   \n",
       "19553 -1001153434921  That said, I still only own 0.25 BTC, which a ...   \n",
       "19122 -1001153434921  Dogecoin might be my fav cryptocurrency. It’s ...   \n",
       "19120 -1001153434921  Dogecoin rulz [pic.twitter.com/flWWUgAgLU](htt...   \n",
       "19118 -1001153434921  Dogecoin value may vary [https://t.co/UWerAhPv...   \n",
       "...              ...                                                ...   \n",
       "1665  -1001153434921  @LordTJCrypto Nice— Elon Musk (@elonmusk) [Apr...   \n",
       "1586  -1001153434921  @cb_doge @dvorahfr I will pay a million Dogeco...   \n",
       "1494  -1001153434921  @crypto_birb 💯— Elon Musk (@elonmusk) [Apr 14,...   \n",
       "1139  -1001153434921  @carlabitcoin Beautiful— Elon Musk (@elonmusk)...   \n",
       "1080  -1001153434921  @DogecoinNorway Or, at least, that’s what Snor...   \n",
       "\n",
       "                      date  \n",
       "19552  2019-02-21 10:00:00  \n",
       "19553  2019-02-21 10:00:00  \n",
       "19122  2019-04-02 09:00:00  \n",
       "19120  2019-04-02 20:00:00  \n",
       "19118  2019-04-02 20:00:00  \n",
       "...                    ...  \n",
       "1665   2023-04-10 21:00:00  \n",
       "1586   2023-04-12 22:00:00  \n",
       "1494   2023-04-14 07:00:00  \n",
       "1139   2023-04-22 05:00:00  \n",
       "1080   2023-04-23 14:00:00  \n",
       "\n",
       "[143 rows x 3 columns]"
      ]
     },
     "execution_count": 48,
     "metadata": {},
     "output_type": "execute_result"
    }
   ],
   "source": [
    "filtered_dataset.head(1000)"
   ]
  },
  {
   "cell_type": "code",
   "execution_count": 80,
   "id": "2d58979b",
   "metadata": {},
   "outputs": [
    {
     "data": {
      "text/html": [
       "<div>\n",
       "<style scoped>\n",
       "    .dataframe tbody tr th:only-of-type {\n",
       "        vertical-align: middle;\n",
       "    }\n",
       "\n",
       "    .dataframe tbody tr th {\n",
       "        vertical-align: top;\n",
       "    }\n",
       "\n",
       "    .dataframe thead th {\n",
       "        text-align: right;\n",
       "    }\n",
       "</style>\n",
       "<table border=\"1\" class=\"dataframe\">\n",
       "  <thead>\n",
       "    <tr style=\"text-align: right;\">\n",
       "      <th></th>\n",
       "      <th>SENDER</th>\n",
       "      <th>MESSAGE</th>\n",
       "      <th>date</th>\n",
       "      <th>mean_price_before</th>\n",
       "      <th>mean_price_after</th>\n",
       "      <th>unix</th>\n",
       "      <th>symbol</th>\n",
       "      <th>open</th>\n",
       "      <th>high</th>\n",
       "      <th>low</th>\n",
       "      <th>close</th>\n",
       "      <th>Volume BTC</th>\n",
       "      <th>Volume USD</th>\n",
       "    </tr>\n",
       "  </thead>\n",
       "  <tbody>\n",
       "    <tr>\n",
       "      <th>0</th>\n",
       "      <td>-1001153434921</td>\n",
       "      <td></td>\n",
       "      <td>2018-09-21 05:00:00</td>\n",
       "      <td>6480.199167</td>\n",
       "      <td>6693.194167</td>\n",
       "      <td>1537506000</td>\n",
       "      <td>BTC/USD</td>\n",
       "      <td>6543.23</td>\n",
       "      <td>6547.45</td>\n",
       "      <td>6519.56</td>\n",
       "      <td>6531.34</td>\n",
       "      <td>1076859.99</td>\n",
       "      <td>164.86</td>\n",
       "    </tr>\n",
       "    <tr>\n",
       "      <th>1</th>\n",
       "      <td>-1001153434921</td>\n",
       "      <td>I love science, bitch!</td>\n",
       "      <td>2018-09-21 05:00:00</td>\n",
       "      <td>6480.199167</td>\n",
       "      <td>6693.194167</td>\n",
       "      <td>1537506000</td>\n",
       "      <td>BTC/USD</td>\n",
       "      <td>6543.23</td>\n",
       "      <td>6547.45</td>\n",
       "      <td>6519.56</td>\n",
       "      <td>6531.34</td>\n",
       "      <td>1076859.99</td>\n",
       "      <td>164.86</td>\n",
       "    </tr>\n",
       "    <tr>\n",
       "      <th>2</th>\n",
       "      <td>-1001153434921</td>\n",
       "      <td></td>\n",
       "      <td>2018-09-21 05:00:00</td>\n",
       "      <td>6480.199167</td>\n",
       "      <td>6693.194167</td>\n",
       "      <td>1537506000</td>\n",
       "      <td>BTC/USD</td>\n",
       "      <td>6543.23</td>\n",
       "      <td>6547.45</td>\n",
       "      <td>6519.56</td>\n",
       "      <td>6531.34</td>\n",
       "      <td>1076859.99</td>\n",
       "      <td>164.86</td>\n",
       "    </tr>\n",
       "    <tr>\n",
       "      <th>3</th>\n",
       "      <td>-1001153434921</td>\n",
       "      <td></td>\n",
       "      <td>2018-09-21 05:00:00</td>\n",
       "      <td>6480.199167</td>\n",
       "      <td>6693.194167</td>\n",
       "      <td>1537506000</td>\n",
       "      <td>BTC/USD</td>\n",
       "      <td>6543.23</td>\n",
       "      <td>6547.45</td>\n",
       "      <td>6519.56</td>\n",
       "      <td>6531.34</td>\n",
       "      <td>1076859.99</td>\n",
       "      <td>164.86</td>\n",
       "    </tr>\n",
       "    <tr>\n",
       "      <th>4</th>\n",
       "      <td>-1001153434921</td>\n",
       "      <td>Here's a [@Tesla](https://twitter.com/Tesla?re...</td>\n",
       "      <td>2018-09-21 19:00:00</td>\n",
       "      <td>6708.921667</td>\n",
       "      <td>6736.284167</td>\n",
       "      <td>1537556400</td>\n",
       "      <td>BTC/USD</td>\n",
       "      <td>6733.72</td>\n",
       "      <td>6775.34</td>\n",
       "      <td>6726.76</td>\n",
       "      <td>6753.09</td>\n",
       "      <td>2588323.98</td>\n",
       "      <td>383.44</td>\n",
       "    </tr>\n",
       "  </tbody>\n",
       "</table>\n",
       "</div>"
      ],
      "text/plain": [
       "          SENDER                                            MESSAGE  \\\n",
       "0 -1001153434921                                                      \n",
       "1 -1001153434921                             I love science, bitch!   \n",
       "2 -1001153434921                                                      \n",
       "3 -1001153434921                                                      \n",
       "4 -1001153434921  Here's a [@Tesla](https://twitter.com/Tesla?re...   \n",
       "\n",
       "                 date  mean_price_before  mean_price_after        unix  \\\n",
       "0 2018-09-21 05:00:00        6480.199167       6693.194167  1537506000   \n",
       "1 2018-09-21 05:00:00        6480.199167       6693.194167  1537506000   \n",
       "2 2018-09-21 05:00:00        6480.199167       6693.194167  1537506000   \n",
       "3 2018-09-21 05:00:00        6480.199167       6693.194167  1537506000   \n",
       "4 2018-09-21 19:00:00        6708.921667       6736.284167  1537556400   \n",
       "\n",
       "    symbol     open     high      low    close  Volume BTC  Volume USD  \n",
       "0  BTC/USD  6543.23  6547.45  6519.56  6531.34  1076859.99      164.86  \n",
       "1  BTC/USD  6543.23  6547.45  6519.56  6531.34  1076859.99      164.86  \n",
       "2  BTC/USD  6543.23  6547.45  6519.56  6531.34  1076859.99      164.86  \n",
       "3  BTC/USD  6543.23  6547.45  6519.56  6531.34  1076859.99      164.86  \n",
       "4  BTC/USD  6733.72  6775.34  6726.76  6753.09  2588323.98      383.44  "
      ]
     },
     "execution_count": 80,
     "metadata": {},
     "output_type": "execute_result"
    }
   ],
   "source": [
    "import pandas as pd\n",
    "import matplotlib.pyplot as plt\n",
    "\n",
    "df['date'] = pd.to_datetime(df['date'])\n",
    "btc_dataset['date'] = pd.to_datetime(btc_dataset['date'])\n",
    "\n",
    "merged_df = pd.merge(df, btc_dataset, left_on='date', right_on='date', how='inner')\n",
    "\n",
    "merged_df.head()"
   ]
  },
  {
   "cell_type": "code",
   "execution_count": 114,
   "id": "ec4f6752",
   "metadata": {},
   "outputs": [
    {
     "data": {
      "application/vnd.plotly.v1+json": {
       "config": {
        "plotlyServerURL": "https://plot.ly"
       },
       "data": [
        {
         "marker": {
          "color": "green"
         },
         "mode": "markers",
         "name": "Price jump",
         "type": "scatter",
         "x": [
          "2021-02-09T00:00:00",
          "2021-02-09T00:00:00",
          "2021-02-09T00:00:00",
          "2021-02-09T00:00:00",
          "2021-02-09T02:00:00",
          "2021-04-26T06:00:00",
          "2021-04-26T06:00:00"
         ],
         "y": [
          8612.06325,
          8612.06325,
          8612.06325,
          8612.06325,
          5184.123111111119,
          6233.6500000000015,
          6233.6500000000015
         ]
        },
        {
         "marker": {
          "color": "red"
         },
         "mode": "markers",
         "name": "Price fall",
         "type": "scatter",
         "x": [
          "2021-02-22T20:00:00",
          "2021-02-22T20:00:00",
          "2021-02-22T20:00:00",
          "2021-02-22T20:00:00",
          "2021-02-22T20:00:00",
          "2021-02-22T23:00:00",
          "2021-02-23T08:00:00",
          "2021-02-23T08:00:00",
          "2021-05-12T22:00:00",
          "2021-05-12T22:00:00",
          "2021-05-13T10:00:00",
          "2021-12-04T15:00:00"
         ],
         "y": [
          -7407.006249999991,
          -7407.006249999991,
          -7407.006249999991,
          -7407.006249999991,
          -7407.006249999991,
          -8170.224444444437,
          -6179.594444444439,
          -6179.594444444439,
          -7176.166250000017,
          -7176.166250000017,
          -6579.5270588235435,
          -5230.995555555557
         ]
        }
       ],
       "layout": {
        "template": {
         "data": {
          "bar": [
           {
            "error_x": {
             "color": "#2a3f5f"
            },
            "error_y": {
             "color": "#2a3f5f"
            },
            "marker": {
             "line": {
              "color": "#E5ECF6",
              "width": 0.5
             },
             "pattern": {
              "fillmode": "overlay",
              "size": 10,
              "solidity": 0.2
             }
            },
            "type": "bar"
           }
          ],
          "barpolar": [
           {
            "marker": {
             "line": {
              "color": "#E5ECF6",
              "width": 0.5
             },
             "pattern": {
              "fillmode": "overlay",
              "size": 10,
              "solidity": 0.2
             }
            },
            "type": "barpolar"
           }
          ],
          "carpet": [
           {
            "aaxis": {
             "endlinecolor": "#2a3f5f",
             "gridcolor": "white",
             "linecolor": "white",
             "minorgridcolor": "white",
             "startlinecolor": "#2a3f5f"
            },
            "baxis": {
             "endlinecolor": "#2a3f5f",
             "gridcolor": "white",
             "linecolor": "white",
             "minorgridcolor": "white",
             "startlinecolor": "#2a3f5f"
            },
            "type": "carpet"
           }
          ],
          "choropleth": [
           {
            "colorbar": {
             "outlinewidth": 0,
             "ticks": ""
            },
            "type": "choropleth"
           }
          ],
          "contour": [
           {
            "colorbar": {
             "outlinewidth": 0,
             "ticks": ""
            },
            "colorscale": [
             [
              0,
              "#0d0887"
             ],
             [
              0.1111111111111111,
              "#46039f"
             ],
             [
              0.2222222222222222,
              "#7201a8"
             ],
             [
              0.3333333333333333,
              "#9c179e"
             ],
             [
              0.4444444444444444,
              "#bd3786"
             ],
             [
              0.5555555555555556,
              "#d8576b"
             ],
             [
              0.6666666666666666,
              "#ed7953"
             ],
             [
              0.7777777777777778,
              "#fb9f3a"
             ],
             [
              0.8888888888888888,
              "#fdca26"
             ],
             [
              1,
              "#f0f921"
             ]
            ],
            "type": "contour"
           }
          ],
          "contourcarpet": [
           {
            "colorbar": {
             "outlinewidth": 0,
             "ticks": ""
            },
            "type": "contourcarpet"
           }
          ],
          "heatmap": [
           {
            "colorbar": {
             "outlinewidth": 0,
             "ticks": ""
            },
            "colorscale": [
             [
              0,
              "#0d0887"
             ],
             [
              0.1111111111111111,
              "#46039f"
             ],
             [
              0.2222222222222222,
              "#7201a8"
             ],
             [
              0.3333333333333333,
              "#9c179e"
             ],
             [
              0.4444444444444444,
              "#bd3786"
             ],
             [
              0.5555555555555556,
              "#d8576b"
             ],
             [
              0.6666666666666666,
              "#ed7953"
             ],
             [
              0.7777777777777778,
              "#fb9f3a"
             ],
             [
              0.8888888888888888,
              "#fdca26"
             ],
             [
              1,
              "#f0f921"
             ]
            ],
            "type": "heatmap"
           }
          ],
          "heatmapgl": [
           {
            "colorbar": {
             "outlinewidth": 0,
             "ticks": ""
            },
            "colorscale": [
             [
              0,
              "#0d0887"
             ],
             [
              0.1111111111111111,
              "#46039f"
             ],
             [
              0.2222222222222222,
              "#7201a8"
             ],
             [
              0.3333333333333333,
              "#9c179e"
             ],
             [
              0.4444444444444444,
              "#bd3786"
             ],
             [
              0.5555555555555556,
              "#d8576b"
             ],
             [
              0.6666666666666666,
              "#ed7953"
             ],
             [
              0.7777777777777778,
              "#fb9f3a"
             ],
             [
              0.8888888888888888,
              "#fdca26"
             ],
             [
              1,
              "#f0f921"
             ]
            ],
            "type": "heatmapgl"
           }
          ],
          "histogram": [
           {
            "marker": {
             "pattern": {
              "fillmode": "overlay",
              "size": 10,
              "solidity": 0.2
             }
            },
            "type": "histogram"
           }
          ],
          "histogram2d": [
           {
            "colorbar": {
             "outlinewidth": 0,
             "ticks": ""
            },
            "colorscale": [
             [
              0,
              "#0d0887"
             ],
             [
              0.1111111111111111,
              "#46039f"
             ],
             [
              0.2222222222222222,
              "#7201a8"
             ],
             [
              0.3333333333333333,
              "#9c179e"
             ],
             [
              0.4444444444444444,
              "#bd3786"
             ],
             [
              0.5555555555555556,
              "#d8576b"
             ],
             [
              0.6666666666666666,
              "#ed7953"
             ],
             [
              0.7777777777777778,
              "#fb9f3a"
             ],
             [
              0.8888888888888888,
              "#fdca26"
             ],
             [
              1,
              "#f0f921"
             ]
            ],
            "type": "histogram2d"
           }
          ],
          "histogram2dcontour": [
           {
            "colorbar": {
             "outlinewidth": 0,
             "ticks": ""
            },
            "colorscale": [
             [
              0,
              "#0d0887"
             ],
             [
              0.1111111111111111,
              "#46039f"
             ],
             [
              0.2222222222222222,
              "#7201a8"
             ],
             [
              0.3333333333333333,
              "#9c179e"
             ],
             [
              0.4444444444444444,
              "#bd3786"
             ],
             [
              0.5555555555555556,
              "#d8576b"
             ],
             [
              0.6666666666666666,
              "#ed7953"
             ],
             [
              0.7777777777777778,
              "#fb9f3a"
             ],
             [
              0.8888888888888888,
              "#fdca26"
             ],
             [
              1,
              "#f0f921"
             ]
            ],
            "type": "histogram2dcontour"
           }
          ],
          "mesh3d": [
           {
            "colorbar": {
             "outlinewidth": 0,
             "ticks": ""
            },
            "type": "mesh3d"
           }
          ],
          "parcoords": [
           {
            "line": {
             "colorbar": {
              "outlinewidth": 0,
              "ticks": ""
             }
            },
            "type": "parcoords"
           }
          ],
          "pie": [
           {
            "automargin": true,
            "type": "pie"
           }
          ],
          "scatter": [
           {
            "fillpattern": {
             "fillmode": "overlay",
             "size": 10,
             "solidity": 0.2
            },
            "type": "scatter"
           }
          ],
          "scatter3d": [
           {
            "line": {
             "colorbar": {
              "outlinewidth": 0,
              "ticks": ""
             }
            },
            "marker": {
             "colorbar": {
              "outlinewidth": 0,
              "ticks": ""
             }
            },
            "type": "scatter3d"
           }
          ],
          "scattercarpet": [
           {
            "marker": {
             "colorbar": {
              "outlinewidth": 0,
              "ticks": ""
             }
            },
            "type": "scattercarpet"
           }
          ],
          "scattergeo": [
           {
            "marker": {
             "colorbar": {
              "outlinewidth": 0,
              "ticks": ""
             }
            },
            "type": "scattergeo"
           }
          ],
          "scattergl": [
           {
            "marker": {
             "colorbar": {
              "outlinewidth": 0,
              "ticks": ""
             }
            },
            "type": "scattergl"
           }
          ],
          "scattermapbox": [
           {
            "marker": {
             "colorbar": {
              "outlinewidth": 0,
              "ticks": ""
             }
            },
            "type": "scattermapbox"
           }
          ],
          "scatterpolar": [
           {
            "marker": {
             "colorbar": {
              "outlinewidth": 0,
              "ticks": ""
             }
            },
            "type": "scatterpolar"
           }
          ],
          "scatterpolargl": [
           {
            "marker": {
             "colorbar": {
              "outlinewidth": 0,
              "ticks": ""
             }
            },
            "type": "scatterpolargl"
           }
          ],
          "scatterternary": [
           {
            "marker": {
             "colorbar": {
              "outlinewidth": 0,
              "ticks": ""
             }
            },
            "type": "scatterternary"
           }
          ],
          "surface": [
           {
            "colorbar": {
             "outlinewidth": 0,
             "ticks": ""
            },
            "colorscale": [
             [
              0,
              "#0d0887"
             ],
             [
              0.1111111111111111,
              "#46039f"
             ],
             [
              0.2222222222222222,
              "#7201a8"
             ],
             [
              0.3333333333333333,
              "#9c179e"
             ],
             [
              0.4444444444444444,
              "#bd3786"
             ],
             [
              0.5555555555555556,
              "#d8576b"
             ],
             [
              0.6666666666666666,
              "#ed7953"
             ],
             [
              0.7777777777777778,
              "#fb9f3a"
             ],
             [
              0.8888888888888888,
              "#fdca26"
             ],
             [
              1,
              "#f0f921"
             ]
            ],
            "type": "surface"
           }
          ],
          "table": [
           {
            "cells": {
             "fill": {
              "color": "#EBF0F8"
             },
             "line": {
              "color": "white"
             }
            },
            "header": {
             "fill": {
              "color": "#C8D4E3"
             },
             "line": {
              "color": "white"
             }
            },
            "type": "table"
           }
          ]
         },
         "layout": {
          "annotationdefaults": {
           "arrowcolor": "#2a3f5f",
           "arrowhead": 0,
           "arrowwidth": 1
          },
          "autotypenumbers": "strict",
          "coloraxis": {
           "colorbar": {
            "outlinewidth": 0,
            "ticks": ""
           }
          },
          "colorscale": {
           "diverging": [
            [
             0,
             "#8e0152"
            ],
            [
             0.1,
             "#c51b7d"
            ],
            [
             0.2,
             "#de77ae"
            ],
            [
             0.3,
             "#f1b6da"
            ],
            [
             0.4,
             "#fde0ef"
            ],
            [
             0.5,
             "#f7f7f7"
            ],
            [
             0.6,
             "#e6f5d0"
            ],
            [
             0.7,
             "#b8e186"
            ],
            [
             0.8,
             "#7fbc41"
            ],
            [
             0.9,
             "#4d9221"
            ],
            [
             1,
             "#276419"
            ]
           ],
           "sequential": [
            [
             0,
             "#0d0887"
            ],
            [
             0.1111111111111111,
             "#46039f"
            ],
            [
             0.2222222222222222,
             "#7201a8"
            ],
            [
             0.3333333333333333,
             "#9c179e"
            ],
            [
             0.4444444444444444,
             "#bd3786"
            ],
            [
             0.5555555555555556,
             "#d8576b"
            ],
            [
             0.6666666666666666,
             "#ed7953"
            ],
            [
             0.7777777777777778,
             "#fb9f3a"
            ],
            [
             0.8888888888888888,
             "#fdca26"
            ],
            [
             1,
             "#f0f921"
            ]
           ],
           "sequentialminus": [
            [
             0,
             "#0d0887"
            ],
            [
             0.1111111111111111,
             "#46039f"
            ],
            [
             0.2222222222222222,
             "#7201a8"
            ],
            [
             0.3333333333333333,
             "#9c179e"
            ],
            [
             0.4444444444444444,
             "#bd3786"
            ],
            [
             0.5555555555555556,
             "#d8576b"
            ],
            [
             0.6666666666666666,
             "#ed7953"
            ],
            [
             0.7777777777777778,
             "#fb9f3a"
            ],
            [
             0.8888888888888888,
             "#fdca26"
            ],
            [
             1,
             "#f0f921"
            ]
           ]
          },
          "colorway": [
           "#636efa",
           "#EF553B",
           "#00cc96",
           "#ab63fa",
           "#FFA15A",
           "#19d3f3",
           "#FF6692",
           "#B6E880",
           "#FF97FF",
           "#FECB52"
          ],
          "font": {
           "color": "#2a3f5f"
          },
          "geo": {
           "bgcolor": "white",
           "lakecolor": "white",
           "landcolor": "#E5ECF6",
           "showlakes": true,
           "showland": true,
           "subunitcolor": "white"
          },
          "hoverlabel": {
           "align": "left"
          },
          "hovermode": "closest",
          "mapbox": {
           "style": "light"
          },
          "paper_bgcolor": "white",
          "plot_bgcolor": "#E5ECF6",
          "polar": {
           "angularaxis": {
            "gridcolor": "white",
            "linecolor": "white",
            "ticks": ""
           },
           "bgcolor": "#E5ECF6",
           "radialaxis": {
            "gridcolor": "white",
            "linecolor": "white",
            "ticks": ""
           }
          },
          "scene": {
           "xaxis": {
            "backgroundcolor": "#E5ECF6",
            "gridcolor": "white",
            "gridwidth": 2,
            "linecolor": "white",
            "showbackground": true,
            "ticks": "",
            "zerolinecolor": "white"
           },
           "yaxis": {
            "backgroundcolor": "#E5ECF6",
            "gridcolor": "white",
            "gridwidth": 2,
            "linecolor": "white",
            "showbackground": true,
            "ticks": "",
            "zerolinecolor": "white"
           },
           "zaxis": {
            "backgroundcolor": "#E5ECF6",
            "gridcolor": "white",
            "gridwidth": 2,
            "linecolor": "white",
            "showbackground": true,
            "ticks": "",
            "zerolinecolor": "white"
           }
          },
          "shapedefaults": {
           "line": {
            "color": "#2a3f5f"
           }
          },
          "ternary": {
           "aaxis": {
            "gridcolor": "white",
            "linecolor": "white",
            "ticks": ""
           },
           "baxis": {
            "gridcolor": "white",
            "linecolor": "white",
            "ticks": ""
           },
           "bgcolor": "#E5ECF6",
           "caxis": {
            "gridcolor": "white",
            "linecolor": "white",
            "ticks": ""
           }
          },
          "title": {
           "x": 0.05
          },
          "xaxis": {
           "automargin": true,
           "gridcolor": "white",
           "linecolor": "white",
           "ticks": "",
           "title": {
            "standoff": 15
           },
           "zerolinecolor": "white",
           "zerolinewidth": 2
          },
          "yaxis": {
           "automargin": true,
           "gridcolor": "white",
           "linecolor": "white",
           "ticks": "",
           "title": {
            "standoff": 15
           },
           "zerolinecolor": "white",
           "zerolinewidth": 2
          }
         }
        },
        "title": {
         "text": "Bitcoins price movement after Elon Musks Tweets"
        },
        "xaxis": {
         "title": {
          "text": "Date"
         }
        },
        "yaxis": {
         "title": {
          "text": "Price Movement"
         }
        }
       }
      },
      "text/html": [
       "<div>                            <div id=\"996c58d3-1d25-4aeb-957c-0dc171d9751a\" class=\"plotly-graph-div\" style=\"height:525px; width:100%;\"></div>            <script type=\"text/javascript\">                require([\"plotly\"], function(Plotly) {                    window.PLOTLYENV=window.PLOTLYENV || {};                                    if (document.getElementById(\"996c58d3-1d25-4aeb-957c-0dc171d9751a\")) {                    Plotly.newPlot(                        \"996c58d3-1d25-4aeb-957c-0dc171d9751a\",                        [{\"marker\":{\"color\":\"green\"},\"mode\":\"markers\",\"name\":\"Price jump\",\"x\":[\"2021-02-09T00:00:00\",\"2021-02-09T00:00:00\",\"2021-02-09T00:00:00\",\"2021-02-09T00:00:00\",\"2021-02-09T02:00:00\",\"2021-04-26T06:00:00\",\"2021-04-26T06:00:00\"],\"y\":[8612.06325,8612.06325,8612.06325,8612.06325,5184.123111111119,6233.6500000000015,6233.6500000000015],\"type\":\"scatter\"},{\"marker\":{\"color\":\"red\"},\"mode\":\"markers\",\"name\":\"Price fall\",\"x\":[\"2021-02-22T20:00:00\",\"2021-02-22T20:00:00\",\"2021-02-22T20:00:00\",\"2021-02-22T20:00:00\",\"2021-02-22T20:00:00\",\"2021-02-22T23:00:00\",\"2021-02-23T08:00:00\",\"2021-02-23T08:00:00\",\"2021-05-12T22:00:00\",\"2021-05-12T22:00:00\",\"2021-05-13T10:00:00\",\"2021-12-04T15:00:00\"],\"y\":[-7407.006249999991,-7407.006249999991,-7407.006249999991,-7407.006249999991,-7407.006249999991,-8170.224444444437,-6179.594444444439,-6179.594444444439,-7176.166250000017,-7176.166250000017,-6579.5270588235435,-5230.995555555557],\"type\":\"scatter\"}],                        {\"template\":{\"data\":{\"histogram2dcontour\":[{\"type\":\"histogram2dcontour\",\"colorbar\":{\"outlinewidth\":0,\"ticks\":\"\"},\"colorscale\":[[0.0,\"#0d0887\"],[0.1111111111111111,\"#46039f\"],[0.2222222222222222,\"#7201a8\"],[0.3333333333333333,\"#9c179e\"],[0.4444444444444444,\"#bd3786\"],[0.5555555555555556,\"#d8576b\"],[0.6666666666666666,\"#ed7953\"],[0.7777777777777778,\"#fb9f3a\"],[0.8888888888888888,\"#fdca26\"],[1.0,\"#f0f921\"]]}],\"choropleth\":[{\"type\":\"choropleth\",\"colorbar\":{\"outlinewidth\":0,\"ticks\":\"\"}}],\"histogram2d\":[{\"type\":\"histogram2d\",\"colorbar\":{\"outlinewidth\":0,\"ticks\":\"\"},\"colorscale\":[[0.0,\"#0d0887\"],[0.1111111111111111,\"#46039f\"],[0.2222222222222222,\"#7201a8\"],[0.3333333333333333,\"#9c179e\"],[0.4444444444444444,\"#bd3786\"],[0.5555555555555556,\"#d8576b\"],[0.6666666666666666,\"#ed7953\"],[0.7777777777777778,\"#fb9f3a\"],[0.8888888888888888,\"#fdca26\"],[1.0,\"#f0f921\"]]}],\"heatmap\":[{\"type\":\"heatmap\",\"colorbar\":{\"outlinewidth\":0,\"ticks\":\"\"},\"colorscale\":[[0.0,\"#0d0887\"],[0.1111111111111111,\"#46039f\"],[0.2222222222222222,\"#7201a8\"],[0.3333333333333333,\"#9c179e\"],[0.4444444444444444,\"#bd3786\"],[0.5555555555555556,\"#d8576b\"],[0.6666666666666666,\"#ed7953\"],[0.7777777777777778,\"#fb9f3a\"],[0.8888888888888888,\"#fdca26\"],[1.0,\"#f0f921\"]]}],\"heatmapgl\":[{\"type\":\"heatmapgl\",\"colorbar\":{\"outlinewidth\":0,\"ticks\":\"\"},\"colorscale\":[[0.0,\"#0d0887\"],[0.1111111111111111,\"#46039f\"],[0.2222222222222222,\"#7201a8\"],[0.3333333333333333,\"#9c179e\"],[0.4444444444444444,\"#bd3786\"],[0.5555555555555556,\"#d8576b\"],[0.6666666666666666,\"#ed7953\"],[0.7777777777777778,\"#fb9f3a\"],[0.8888888888888888,\"#fdca26\"],[1.0,\"#f0f921\"]]}],\"contourcarpet\":[{\"type\":\"contourcarpet\",\"colorbar\":{\"outlinewidth\":0,\"ticks\":\"\"}}],\"contour\":[{\"type\":\"contour\",\"colorbar\":{\"outlinewidth\":0,\"ticks\":\"\"},\"colorscale\":[[0.0,\"#0d0887\"],[0.1111111111111111,\"#46039f\"],[0.2222222222222222,\"#7201a8\"],[0.3333333333333333,\"#9c179e\"],[0.4444444444444444,\"#bd3786\"],[0.5555555555555556,\"#d8576b\"],[0.6666666666666666,\"#ed7953\"],[0.7777777777777778,\"#fb9f3a\"],[0.8888888888888888,\"#fdca26\"],[1.0,\"#f0f921\"]]}],\"surface\":[{\"type\":\"surface\",\"colorbar\":{\"outlinewidth\":0,\"ticks\":\"\"},\"colorscale\":[[0.0,\"#0d0887\"],[0.1111111111111111,\"#46039f\"],[0.2222222222222222,\"#7201a8\"],[0.3333333333333333,\"#9c179e\"],[0.4444444444444444,\"#bd3786\"],[0.5555555555555556,\"#d8576b\"],[0.6666666666666666,\"#ed7953\"],[0.7777777777777778,\"#fb9f3a\"],[0.8888888888888888,\"#fdca26\"],[1.0,\"#f0f921\"]]}],\"mesh3d\":[{\"type\":\"mesh3d\",\"colorbar\":{\"outlinewidth\":0,\"ticks\":\"\"}}],\"scatter\":[{\"fillpattern\":{\"fillmode\":\"overlay\",\"size\":10,\"solidity\":0.2},\"type\":\"scatter\"}],\"parcoords\":[{\"type\":\"parcoords\",\"line\":{\"colorbar\":{\"outlinewidth\":0,\"ticks\":\"\"}}}],\"scatterpolargl\":[{\"type\":\"scatterpolargl\",\"marker\":{\"colorbar\":{\"outlinewidth\":0,\"ticks\":\"\"}}}],\"bar\":[{\"error_x\":{\"color\":\"#2a3f5f\"},\"error_y\":{\"color\":\"#2a3f5f\"},\"marker\":{\"line\":{\"color\":\"#E5ECF6\",\"width\":0.5},\"pattern\":{\"fillmode\":\"overlay\",\"size\":10,\"solidity\":0.2}},\"type\":\"bar\"}],\"scattergeo\":[{\"type\":\"scattergeo\",\"marker\":{\"colorbar\":{\"outlinewidth\":0,\"ticks\":\"\"}}}],\"scatterpolar\":[{\"type\":\"scatterpolar\",\"marker\":{\"colorbar\":{\"outlinewidth\":0,\"ticks\":\"\"}}}],\"histogram\":[{\"marker\":{\"pattern\":{\"fillmode\":\"overlay\",\"size\":10,\"solidity\":0.2}},\"type\":\"histogram\"}],\"scattergl\":[{\"type\":\"scattergl\",\"marker\":{\"colorbar\":{\"outlinewidth\":0,\"ticks\":\"\"}}}],\"scatter3d\":[{\"type\":\"scatter3d\",\"line\":{\"colorbar\":{\"outlinewidth\":0,\"ticks\":\"\"}},\"marker\":{\"colorbar\":{\"outlinewidth\":0,\"ticks\":\"\"}}}],\"scattermapbox\":[{\"type\":\"scattermapbox\",\"marker\":{\"colorbar\":{\"outlinewidth\":0,\"ticks\":\"\"}}}],\"scatterternary\":[{\"type\":\"scatterternary\",\"marker\":{\"colorbar\":{\"outlinewidth\":0,\"ticks\":\"\"}}}],\"scattercarpet\":[{\"type\":\"scattercarpet\",\"marker\":{\"colorbar\":{\"outlinewidth\":0,\"ticks\":\"\"}}}],\"carpet\":[{\"aaxis\":{\"endlinecolor\":\"#2a3f5f\",\"gridcolor\":\"white\",\"linecolor\":\"white\",\"minorgridcolor\":\"white\",\"startlinecolor\":\"#2a3f5f\"},\"baxis\":{\"endlinecolor\":\"#2a3f5f\",\"gridcolor\":\"white\",\"linecolor\":\"white\",\"minorgridcolor\":\"white\",\"startlinecolor\":\"#2a3f5f\"},\"type\":\"carpet\"}],\"table\":[{\"cells\":{\"fill\":{\"color\":\"#EBF0F8\"},\"line\":{\"color\":\"white\"}},\"header\":{\"fill\":{\"color\":\"#C8D4E3\"},\"line\":{\"color\":\"white\"}},\"type\":\"table\"}],\"barpolar\":[{\"marker\":{\"line\":{\"color\":\"#E5ECF6\",\"width\":0.5},\"pattern\":{\"fillmode\":\"overlay\",\"size\":10,\"solidity\":0.2}},\"type\":\"barpolar\"}],\"pie\":[{\"automargin\":true,\"type\":\"pie\"}]},\"layout\":{\"autotypenumbers\":\"strict\",\"colorway\":[\"#636efa\",\"#EF553B\",\"#00cc96\",\"#ab63fa\",\"#FFA15A\",\"#19d3f3\",\"#FF6692\",\"#B6E880\",\"#FF97FF\",\"#FECB52\"],\"font\":{\"color\":\"#2a3f5f\"},\"hovermode\":\"closest\",\"hoverlabel\":{\"align\":\"left\"},\"paper_bgcolor\":\"white\",\"plot_bgcolor\":\"#E5ECF6\",\"polar\":{\"bgcolor\":\"#E5ECF6\",\"angularaxis\":{\"gridcolor\":\"white\",\"linecolor\":\"white\",\"ticks\":\"\"},\"radialaxis\":{\"gridcolor\":\"white\",\"linecolor\":\"white\",\"ticks\":\"\"}},\"ternary\":{\"bgcolor\":\"#E5ECF6\",\"aaxis\":{\"gridcolor\":\"white\",\"linecolor\":\"white\",\"ticks\":\"\"},\"baxis\":{\"gridcolor\":\"white\",\"linecolor\":\"white\",\"ticks\":\"\"},\"caxis\":{\"gridcolor\":\"white\",\"linecolor\":\"white\",\"ticks\":\"\"}},\"coloraxis\":{\"colorbar\":{\"outlinewidth\":0,\"ticks\":\"\"}},\"colorscale\":{\"sequential\":[[0.0,\"#0d0887\"],[0.1111111111111111,\"#46039f\"],[0.2222222222222222,\"#7201a8\"],[0.3333333333333333,\"#9c179e\"],[0.4444444444444444,\"#bd3786\"],[0.5555555555555556,\"#d8576b\"],[0.6666666666666666,\"#ed7953\"],[0.7777777777777778,\"#fb9f3a\"],[0.8888888888888888,\"#fdca26\"],[1.0,\"#f0f921\"]],\"sequentialminus\":[[0.0,\"#0d0887\"],[0.1111111111111111,\"#46039f\"],[0.2222222222222222,\"#7201a8\"],[0.3333333333333333,\"#9c179e\"],[0.4444444444444444,\"#bd3786\"],[0.5555555555555556,\"#d8576b\"],[0.6666666666666666,\"#ed7953\"],[0.7777777777777778,\"#fb9f3a\"],[0.8888888888888888,\"#fdca26\"],[1.0,\"#f0f921\"]],\"diverging\":[[0,\"#8e0152\"],[0.1,\"#c51b7d\"],[0.2,\"#de77ae\"],[0.3,\"#f1b6da\"],[0.4,\"#fde0ef\"],[0.5,\"#f7f7f7\"],[0.6,\"#e6f5d0\"],[0.7,\"#b8e186\"],[0.8,\"#7fbc41\"],[0.9,\"#4d9221\"],[1,\"#276419\"]]},\"xaxis\":{\"gridcolor\":\"white\",\"linecolor\":\"white\",\"ticks\":\"\",\"title\":{\"standoff\":15},\"zerolinecolor\":\"white\",\"automargin\":true,\"zerolinewidth\":2},\"yaxis\":{\"gridcolor\":\"white\",\"linecolor\":\"white\",\"ticks\":\"\",\"title\":{\"standoff\":15},\"zerolinecolor\":\"white\",\"automargin\":true,\"zerolinewidth\":2},\"scene\":{\"xaxis\":{\"backgroundcolor\":\"#E5ECF6\",\"gridcolor\":\"white\",\"linecolor\":\"white\",\"showbackground\":true,\"ticks\":\"\",\"zerolinecolor\":\"white\",\"gridwidth\":2},\"yaxis\":{\"backgroundcolor\":\"#E5ECF6\",\"gridcolor\":\"white\",\"linecolor\":\"white\",\"showbackground\":true,\"ticks\":\"\",\"zerolinecolor\":\"white\",\"gridwidth\":2},\"zaxis\":{\"backgroundcolor\":\"#E5ECF6\",\"gridcolor\":\"white\",\"linecolor\":\"white\",\"showbackground\":true,\"ticks\":\"\",\"zerolinecolor\":\"white\",\"gridwidth\":2}},\"shapedefaults\":{\"line\":{\"color\":\"#2a3f5f\"}},\"annotationdefaults\":{\"arrowcolor\":\"#2a3f5f\",\"arrowhead\":0,\"arrowwidth\":1},\"geo\":{\"bgcolor\":\"white\",\"landcolor\":\"#E5ECF6\",\"subunitcolor\":\"white\",\"showland\":true,\"showlakes\":true,\"lakecolor\":\"white\"},\"title\":{\"x\":0.05},\"mapbox\":{\"style\":\"light\"}}},\"title\":{\"text\":\"Bitcoins price movement after Elon Musks Tweets\"},\"xaxis\":{\"title\":{\"text\":\"Date\"}},\"yaxis\":{\"title\":{\"text\":\"Price Movement\"}}},                        {\"responsive\": true}                    ).then(function(){\n",
       "                            \n",
       "var gd = document.getElementById('996c58d3-1d25-4aeb-957c-0dc171d9751a');\n",
       "var x = new MutationObserver(function (mutations, observer) {{\n",
       "        var display = window.getComputedStyle(gd).display;\n",
       "        if (!display || display === 'none') {{\n",
       "            console.log([gd, 'removed!']);\n",
       "            Plotly.purge(gd);\n",
       "            observer.disconnect();\n",
       "        }}\n",
       "}});\n",
       "\n",
       "// Listen for the removal of the full notebook cells\n",
       "var notebookContainer = gd.closest('#notebook-container');\n",
       "if (notebookContainer) {{\n",
       "    x.observe(notebookContainer, {childList: true});\n",
       "}}\n",
       "\n",
       "// Listen for the clearing of the current output cell\n",
       "var outputEl = gd.closest('.output');\n",
       "if (outputEl) {{\n",
       "    x.observe(outputEl, {childList: true});\n",
       "}}\n",
       "\n",
       "                        })                };                });            </script>        </div>"
      ]
     },
     "metadata": {},
     "output_type": "display_data"
    }
   ],
   "source": [
    "import pandas as pd\n",
    "import plotly.graph_objects as go\n",
    "\n",
    "# Keyword Matching for dataseet\n",
    "crypto_keywords = [\"Bitcoin\", \"cryptocurrency\", \"crypto\"]\n",
    "df['is_crypto_related'] = False\n",
    "\n",
    "for keyword in crypto_keywords:\n",
    "    df['is_crypto_related'] |= df['MESSAGE'].str.contains(keyword, case=False)\n",
    "\n",
    "# merging the datasets\n",
    "df['date'] = pd.to_datetime(df['date'])\n",
    "btc_dataset['date'] = pd.to_datetime(btc_dataset['date'])\n",
    "merged_data = pd.merge_asof(df, btc_dataset, left_on='date', right_on='date')\n",
    "grouped_data = merged_data.groupby('SENDER')\n",
    "\n",
    "# Mean Bitcoin before and after\n",
    "hours_before = 24 \n",
    "hours_after = 12  \n",
    "\n",
    "mean_prices = []\n",
    "dates = []\n",
    "\n",
    "for sender, data in grouped_data:\n",
    "    tweet_dates = data['date']\n",
    "    for tweet_date in tweet_dates:\n",
    "        start_time = tweet_date - pd.Timedelta(hours=hours_before)\n",
    "        end_time = tweet_date + pd.Timedelta(hours=hours_after)\n",
    "        prices_before = data[(data['date'] >= start_time) & (data['date'] < tweet_date)]['close']\n",
    "        prices_after = data[(data['date'] > tweet_date) & (data['date'] <= end_time)]['close']\n",
    "        mean_before = prices_before.mean()\n",
    "        mean_after = prices_after.mean()\n",
    "        mean_prices.append(mean_after - mean_before)\n",
    "        dates.append(tweet_date)\n",
    "\n",
    "# new result df\n",
    "result_df = pd.DataFrame({'date': dates, 'price_change': mean_prices})\n",
    "\n",
    "# defining threshold for the price movement\n",
    "threshold = 5000\n",
    "significant_changes = result_df[abs(result_df['price_change']) > threshold]\n",
    "\n",
    "# falls and jumps\n",
    "price_jumps = significant_changes[significant_changes['price_change'] > 0]\n",
    "price_falls = significant_changes[significant_changes['price_change'] < 0]\n",
    "\n",
    "fig = go.Figure()\n",
    "fig.add_trace(go.Scatter(x=price_jumps['date'], y=price_jumps['price_change'],\n",
    "                         mode='markers', marker=dict(color='green'), name='Price jump'))\n",
    "fig.add_trace(go.Scatter(x=price_falls['date'], y=price_falls['price_change'],\n",
    "                         mode='markers', marker=dict(color='red'), name='Price fall'))\n",
    "fig.update_layout(title='Bitcoins price movement after Elon Musks Tweets',\n",
    "                  xaxis=dict(title='Date'),\n",
    "                  yaxis=dict(title='Price Movement'))\n",
    "fig.show()\n"
   ]
  },
  {
   "cell_type": "code",
   "execution_count": 120,
   "id": "3a0ea1b4",
   "metadata": {},
   "outputs": [
    {
     "data": {
      "application/vnd.plotly.v1+json": {
       "config": {
        "plotlyServerURL": "https://plot.ly"
       },
       "data": [
        {
         "marker": {
          "color": "green"
         },
         "mode": "markers",
         "name": "Price jump",
         "text": [
          "This is intended for Earth, but there may be some ideas that apply to Mars too— Elon Musk (@elonmusk) [February 9, 2021](https://twitter.com/elonmusk/status/1358931403665117184?ref_src=twsrc%5Etfw)",
          "🤣🤣— Elon Musk (@elonmusk) [February 9, 2021](https://twitter.com/elonmusk/status/1358931075880284164?ref_src=twsrc%5Etfw)",
          "Everyone at Tesla receives stock.\n\nMy comp is all stock/options, which I do not take off the table.\n\nThat’s what you’re missing.— Elon Musk (@elonmusk) [February 9, 2021](https://twitter.com/elonmusk/status/1358929114166485008?ref_src=twsrc%5Etfw)",
          "XPrize team will manage the $100M carbon capture prize [https://t.co/fSw5IanL0r](https://t.co/fSw5IanL0r)— Elon Musk (@elonmusk) [February 9, 2021](https://twitter.com/elonmusk/status/1358930781314322433?ref_src=twsrc%5Etfw)",
          "It’s meant to be the same price in all countries. Only difference should be taxes & shipping.— Elon Musk (@elonmusk) [February 9, 2021](https://twitter.com/elonmusk/status/1358964520522162176?ref_src=twsrc%5Etfw)",
          "[https://t.co/xl441YNnOs](https://t.co/xl441YNnOs)— Elon Musk (@elonmusk) [April 26, 2021](https://twitter.com/elonmusk/status/1386562909833109505?ref_src=twsrc%5Etfw)",
          "We just got approval to open a new Supercharger station in Malibu!— Elon Musk (@elonmusk) [April 26, 2021](https://twitter.com/elonmusk/status/1386563667706011653?ref_src=twsrc%5Etfw)"
         ],
         "type": "scatter",
         "x": [
          "2021-02-09T00:00:00",
          "2021-02-09T00:00:00",
          "2021-02-09T00:00:00",
          "2021-02-09T00:00:00",
          "2021-02-09T02:00:00",
          "2021-04-26T06:00:00",
          "2021-04-26T06:00:00"
         ],
         "y": [
          8612.06325,
          8612.06325,
          8612.06325,
          8612.06325,
          5184.123111111119,
          6233.6500000000015,
          6233.6500000000015
         ]
        },
        {
         "marker": {
          "color": "red"
         },
         "mode": "markers",
         "name": "Price fall",
         "text": [
          "The Tesla Solar Roof is slightly hydrophobic, so water, snow or ice slide off easily— Elon Musk (@elonmusk) [February 22, 2021](https://twitter.com/elonmusk/status/1363944709501067264?ref_src=twsrc%5Etfw)",
          "It is still available off menu, but I don’t think the range, in many drive conditions, yet meets the Tesla standard of excellence— Elon Musk (@elonmusk) [February 22, 2021](https://twitter.com/elonmusk/status/1363946797945679875?ref_src=twsrc%5Etfw)",
          "Later this year— Elon Musk (@elonmusk) [February 22, 2021](https://twitter.com/elonmusk/status/1363946926983405573?ref_src=twsrc%5Etfw)",
          "Hopefully, later this year— Elon Musk (@elonmusk) [February 22, 2021](https://twitter.com/elonmusk/status/1363946979005399040?ref_src=twsrc%5Etfw)",
          "Tunnels!!— Elon Musk (@elonmusk) [February 22, 2021](https://twitter.com/elonmusk/status/1363947211277496320?ref_src=twsrc%5Etfw)",
          "We have too much product complexity already— Elon Musk (@elonmusk) [February 22, 2021](https://twitter.com/elonmusk/status/1363993259756945410?ref_src=twsrc%5Etfw)",
          "🍆— Elon Musk (@elonmusk) [February 23, 2021](https://twitter.com/elonmusk/status/1364128031434887170?ref_src=twsrc%5Etfw)",
          "Super cool— Elon Musk (@elonmusk) [February 23, 2021](https://twitter.com/elonmusk/status/1364127406689193986?ref_src=twsrc%5Etfw)",
          "Tesla & Bitcoin [pic.twitter.com/YSswJmVZhP](https://t.co/YSswJmVZhP)— Elon Musk (@elonmusk) [May 12, 2021](https://twitter.com/elonmusk/status/1392602041025843203?ref_src=twsrc%5Etfw)",
          "Haha— Elon Musk (@elonmusk) [May 12, 2021](https://twitter.com/elonmusk/status/1392594175816724486?ref_src=twsrc%5Etfw)",
          "Energy usage trend over past few months is insane [https://t.co/E6o9s87trw](https://t.co/E6o9s87trw) [pic.twitter.com/bmv9wotwKe](https://t.co/bmv9wotwKe)— Elon Musk (@elonmusk) [May 13, 2021](https://twitter.com/elonmusk/status/1392780304138473473?ref_src=twsrc%5Etfw)",
          "Starships to ♥️ Mars ♥️— Elon Musk (@elonmusk) [Dec 4, 2021](https://twitter.com/elonmusk/status/1467149074705096713)"
         ],
         "type": "scatter",
         "x": [
          "2021-02-22T20:00:00",
          "2021-02-22T20:00:00",
          "2021-02-22T20:00:00",
          "2021-02-22T20:00:00",
          "2021-02-22T20:00:00",
          "2021-02-22T23:00:00",
          "2021-02-23T08:00:00",
          "2021-02-23T08:00:00",
          "2021-05-12T22:00:00",
          "2021-05-12T22:00:00",
          "2021-05-13T10:00:00",
          "2021-12-04T15:00:00"
         ],
         "y": [
          -7407.006249999991,
          -7407.006249999991,
          -7407.006249999991,
          -7407.006249999991,
          -7407.006249999991,
          -8170.224444444437,
          -6179.594444444439,
          -6179.594444444439,
          -7176.166250000017,
          -7176.166250000017,
          -6579.5270588235435,
          -5230.995555555557
         ]
        }
       ],
       "layout": {
        "template": {
         "data": {
          "bar": [
           {
            "error_x": {
             "color": "#2a3f5f"
            },
            "error_y": {
             "color": "#2a3f5f"
            },
            "marker": {
             "line": {
              "color": "#E5ECF6",
              "width": 0.5
             },
             "pattern": {
              "fillmode": "overlay",
              "size": 10,
              "solidity": 0.2
             }
            },
            "type": "bar"
           }
          ],
          "barpolar": [
           {
            "marker": {
             "line": {
              "color": "#E5ECF6",
              "width": 0.5
             },
             "pattern": {
              "fillmode": "overlay",
              "size": 10,
              "solidity": 0.2
             }
            },
            "type": "barpolar"
           }
          ],
          "carpet": [
           {
            "aaxis": {
             "endlinecolor": "#2a3f5f",
             "gridcolor": "white",
             "linecolor": "white",
             "minorgridcolor": "white",
             "startlinecolor": "#2a3f5f"
            },
            "baxis": {
             "endlinecolor": "#2a3f5f",
             "gridcolor": "white",
             "linecolor": "white",
             "minorgridcolor": "white",
             "startlinecolor": "#2a3f5f"
            },
            "type": "carpet"
           }
          ],
          "choropleth": [
           {
            "colorbar": {
             "outlinewidth": 0,
             "ticks": ""
            },
            "type": "choropleth"
           }
          ],
          "contour": [
           {
            "colorbar": {
             "outlinewidth": 0,
             "ticks": ""
            },
            "colorscale": [
             [
              0,
              "#0d0887"
             ],
             [
              0.1111111111111111,
              "#46039f"
             ],
             [
              0.2222222222222222,
              "#7201a8"
             ],
             [
              0.3333333333333333,
              "#9c179e"
             ],
             [
              0.4444444444444444,
              "#bd3786"
             ],
             [
              0.5555555555555556,
              "#d8576b"
             ],
             [
              0.6666666666666666,
              "#ed7953"
             ],
             [
              0.7777777777777778,
              "#fb9f3a"
             ],
             [
              0.8888888888888888,
              "#fdca26"
             ],
             [
              1,
              "#f0f921"
             ]
            ],
            "type": "contour"
           }
          ],
          "contourcarpet": [
           {
            "colorbar": {
             "outlinewidth": 0,
             "ticks": ""
            },
            "type": "contourcarpet"
           }
          ],
          "heatmap": [
           {
            "colorbar": {
             "outlinewidth": 0,
             "ticks": ""
            },
            "colorscale": [
             [
              0,
              "#0d0887"
             ],
             [
              0.1111111111111111,
              "#46039f"
             ],
             [
              0.2222222222222222,
              "#7201a8"
             ],
             [
              0.3333333333333333,
              "#9c179e"
             ],
             [
              0.4444444444444444,
              "#bd3786"
             ],
             [
              0.5555555555555556,
              "#d8576b"
             ],
             [
              0.6666666666666666,
              "#ed7953"
             ],
             [
              0.7777777777777778,
              "#fb9f3a"
             ],
             [
              0.8888888888888888,
              "#fdca26"
             ],
             [
              1,
              "#f0f921"
             ]
            ],
            "type": "heatmap"
           }
          ],
          "heatmapgl": [
           {
            "colorbar": {
             "outlinewidth": 0,
             "ticks": ""
            },
            "colorscale": [
             [
              0,
              "#0d0887"
             ],
             [
              0.1111111111111111,
              "#46039f"
             ],
             [
              0.2222222222222222,
              "#7201a8"
             ],
             [
              0.3333333333333333,
              "#9c179e"
             ],
             [
              0.4444444444444444,
              "#bd3786"
             ],
             [
              0.5555555555555556,
              "#d8576b"
             ],
             [
              0.6666666666666666,
              "#ed7953"
             ],
             [
              0.7777777777777778,
              "#fb9f3a"
             ],
             [
              0.8888888888888888,
              "#fdca26"
             ],
             [
              1,
              "#f0f921"
             ]
            ],
            "type": "heatmapgl"
           }
          ],
          "histogram": [
           {
            "marker": {
             "pattern": {
              "fillmode": "overlay",
              "size": 10,
              "solidity": 0.2
             }
            },
            "type": "histogram"
           }
          ],
          "histogram2d": [
           {
            "colorbar": {
             "outlinewidth": 0,
             "ticks": ""
            },
            "colorscale": [
             [
              0,
              "#0d0887"
             ],
             [
              0.1111111111111111,
              "#46039f"
             ],
             [
              0.2222222222222222,
              "#7201a8"
             ],
             [
              0.3333333333333333,
              "#9c179e"
             ],
             [
              0.4444444444444444,
              "#bd3786"
             ],
             [
              0.5555555555555556,
              "#d8576b"
             ],
             [
              0.6666666666666666,
              "#ed7953"
             ],
             [
              0.7777777777777778,
              "#fb9f3a"
             ],
             [
              0.8888888888888888,
              "#fdca26"
             ],
             [
              1,
              "#f0f921"
             ]
            ],
            "type": "histogram2d"
           }
          ],
          "histogram2dcontour": [
           {
            "colorbar": {
             "outlinewidth": 0,
             "ticks": ""
            },
            "colorscale": [
             [
              0,
              "#0d0887"
             ],
             [
              0.1111111111111111,
              "#46039f"
             ],
             [
              0.2222222222222222,
              "#7201a8"
             ],
             [
              0.3333333333333333,
              "#9c179e"
             ],
             [
              0.4444444444444444,
              "#bd3786"
             ],
             [
              0.5555555555555556,
              "#d8576b"
             ],
             [
              0.6666666666666666,
              "#ed7953"
             ],
             [
              0.7777777777777778,
              "#fb9f3a"
             ],
             [
              0.8888888888888888,
              "#fdca26"
             ],
             [
              1,
              "#f0f921"
             ]
            ],
            "type": "histogram2dcontour"
           }
          ],
          "mesh3d": [
           {
            "colorbar": {
             "outlinewidth": 0,
             "ticks": ""
            },
            "type": "mesh3d"
           }
          ],
          "parcoords": [
           {
            "line": {
             "colorbar": {
              "outlinewidth": 0,
              "ticks": ""
             }
            },
            "type": "parcoords"
           }
          ],
          "pie": [
           {
            "automargin": true,
            "type": "pie"
           }
          ],
          "scatter": [
           {
            "fillpattern": {
             "fillmode": "overlay",
             "size": 10,
             "solidity": 0.2
            },
            "type": "scatter"
           }
          ],
          "scatter3d": [
           {
            "line": {
             "colorbar": {
              "outlinewidth": 0,
              "ticks": ""
             }
            },
            "marker": {
             "colorbar": {
              "outlinewidth": 0,
              "ticks": ""
             }
            },
            "type": "scatter3d"
           }
          ],
          "scattercarpet": [
           {
            "marker": {
             "colorbar": {
              "outlinewidth": 0,
              "ticks": ""
             }
            },
            "type": "scattercarpet"
           }
          ],
          "scattergeo": [
           {
            "marker": {
             "colorbar": {
              "outlinewidth": 0,
              "ticks": ""
             }
            },
            "type": "scattergeo"
           }
          ],
          "scattergl": [
           {
            "marker": {
             "colorbar": {
              "outlinewidth": 0,
              "ticks": ""
             }
            },
            "type": "scattergl"
           }
          ],
          "scattermapbox": [
           {
            "marker": {
             "colorbar": {
              "outlinewidth": 0,
              "ticks": ""
             }
            },
            "type": "scattermapbox"
           }
          ],
          "scatterpolar": [
           {
            "marker": {
             "colorbar": {
              "outlinewidth": 0,
              "ticks": ""
             }
            },
            "type": "scatterpolar"
           }
          ],
          "scatterpolargl": [
           {
            "marker": {
             "colorbar": {
              "outlinewidth": 0,
              "ticks": ""
             }
            },
            "type": "scatterpolargl"
           }
          ],
          "scatterternary": [
           {
            "marker": {
             "colorbar": {
              "outlinewidth": 0,
              "ticks": ""
             }
            },
            "type": "scatterternary"
           }
          ],
          "surface": [
           {
            "colorbar": {
             "outlinewidth": 0,
             "ticks": ""
            },
            "colorscale": [
             [
              0,
              "#0d0887"
             ],
             [
              0.1111111111111111,
              "#46039f"
             ],
             [
              0.2222222222222222,
              "#7201a8"
             ],
             [
              0.3333333333333333,
              "#9c179e"
             ],
             [
              0.4444444444444444,
              "#bd3786"
             ],
             [
              0.5555555555555556,
              "#d8576b"
             ],
             [
              0.6666666666666666,
              "#ed7953"
             ],
             [
              0.7777777777777778,
              "#fb9f3a"
             ],
             [
              0.8888888888888888,
              "#fdca26"
             ],
             [
              1,
              "#f0f921"
             ]
            ],
            "type": "surface"
           }
          ],
          "table": [
           {
            "cells": {
             "fill": {
              "color": "#EBF0F8"
             },
             "line": {
              "color": "white"
             }
            },
            "header": {
             "fill": {
              "color": "#C8D4E3"
             },
             "line": {
              "color": "white"
             }
            },
            "type": "table"
           }
          ]
         },
         "layout": {
          "annotationdefaults": {
           "arrowcolor": "#2a3f5f",
           "arrowhead": 0,
           "arrowwidth": 1
          },
          "autotypenumbers": "strict",
          "coloraxis": {
           "colorbar": {
            "outlinewidth": 0,
            "ticks": ""
           }
          },
          "colorscale": {
           "diverging": [
            [
             0,
             "#8e0152"
            ],
            [
             0.1,
             "#c51b7d"
            ],
            [
             0.2,
             "#de77ae"
            ],
            [
             0.3,
             "#f1b6da"
            ],
            [
             0.4,
             "#fde0ef"
            ],
            [
             0.5,
             "#f7f7f7"
            ],
            [
             0.6,
             "#e6f5d0"
            ],
            [
             0.7,
             "#b8e186"
            ],
            [
             0.8,
             "#7fbc41"
            ],
            [
             0.9,
             "#4d9221"
            ],
            [
             1,
             "#276419"
            ]
           ],
           "sequential": [
            [
             0,
             "#0d0887"
            ],
            [
             0.1111111111111111,
             "#46039f"
            ],
            [
             0.2222222222222222,
             "#7201a8"
            ],
            [
             0.3333333333333333,
             "#9c179e"
            ],
            [
             0.4444444444444444,
             "#bd3786"
            ],
            [
             0.5555555555555556,
             "#d8576b"
            ],
            [
             0.6666666666666666,
             "#ed7953"
            ],
            [
             0.7777777777777778,
             "#fb9f3a"
            ],
            [
             0.8888888888888888,
             "#fdca26"
            ],
            [
             1,
             "#f0f921"
            ]
           ],
           "sequentialminus": [
            [
             0,
             "#0d0887"
            ],
            [
             0.1111111111111111,
             "#46039f"
            ],
            [
             0.2222222222222222,
             "#7201a8"
            ],
            [
             0.3333333333333333,
             "#9c179e"
            ],
            [
             0.4444444444444444,
             "#bd3786"
            ],
            [
             0.5555555555555556,
             "#d8576b"
            ],
            [
             0.6666666666666666,
             "#ed7953"
            ],
            [
             0.7777777777777778,
             "#fb9f3a"
            ],
            [
             0.8888888888888888,
             "#fdca26"
            ],
            [
             1,
             "#f0f921"
            ]
           ]
          },
          "colorway": [
           "#636efa",
           "#EF553B",
           "#00cc96",
           "#ab63fa",
           "#FFA15A",
           "#19d3f3",
           "#FF6692",
           "#B6E880",
           "#FF97FF",
           "#FECB52"
          ],
          "font": {
           "color": "#2a3f5f"
          },
          "geo": {
           "bgcolor": "white",
           "lakecolor": "white",
           "landcolor": "#E5ECF6",
           "showlakes": true,
           "showland": true,
           "subunitcolor": "white"
          },
          "hoverlabel": {
           "align": "left"
          },
          "hovermode": "closest",
          "mapbox": {
           "style": "light"
          },
          "paper_bgcolor": "white",
          "plot_bgcolor": "#E5ECF6",
          "polar": {
           "angularaxis": {
            "gridcolor": "white",
            "linecolor": "white",
            "ticks": ""
           },
           "bgcolor": "#E5ECF6",
           "radialaxis": {
            "gridcolor": "white",
            "linecolor": "white",
            "ticks": ""
           }
          },
          "scene": {
           "xaxis": {
            "backgroundcolor": "#E5ECF6",
            "gridcolor": "white",
            "gridwidth": 2,
            "linecolor": "white",
            "showbackground": true,
            "ticks": "",
            "zerolinecolor": "white"
           },
           "yaxis": {
            "backgroundcolor": "#E5ECF6",
            "gridcolor": "white",
            "gridwidth": 2,
            "linecolor": "white",
            "showbackground": true,
            "ticks": "",
            "zerolinecolor": "white"
           },
           "zaxis": {
            "backgroundcolor": "#E5ECF6",
            "gridcolor": "white",
            "gridwidth": 2,
            "linecolor": "white",
            "showbackground": true,
            "ticks": "",
            "zerolinecolor": "white"
           }
          },
          "shapedefaults": {
           "line": {
            "color": "#2a3f5f"
           }
          },
          "ternary": {
           "aaxis": {
            "gridcolor": "white",
            "linecolor": "white",
            "ticks": ""
           },
           "baxis": {
            "gridcolor": "white",
            "linecolor": "white",
            "ticks": ""
           },
           "bgcolor": "#E5ECF6",
           "caxis": {
            "gridcolor": "white",
            "linecolor": "white",
            "ticks": ""
           }
          },
          "title": {
           "x": 0.05
          },
          "xaxis": {
           "automargin": true,
           "gridcolor": "white",
           "linecolor": "white",
           "ticks": "",
           "title": {
            "standoff": 15
           },
           "zerolinecolor": "white",
           "zerolinewidth": 2
          },
          "yaxis": {
           "automargin": true,
           "gridcolor": "white",
           "linecolor": "white",
           "ticks": "",
           "title": {
            "standoff": 15
           },
           "zerolinecolor": "white",
           "zerolinewidth": 2
          }
         }
        },
        "title": {
         "text": "Bitcoins price movement after Elon Musk's Tweets"
        },
        "xaxis": {
         "title": {
          "text": "Date"
         }
        },
        "yaxis": {
         "title": {
          "text": "Price Movement"
         }
        }
       }
      },
      "text/html": [
       "<div>                            <div id=\"24e5df93-d3bc-4e85-b190-4680675a9920\" class=\"plotly-graph-div\" style=\"height:525px; width:100%;\"></div>            <script type=\"text/javascript\">                require([\"plotly\"], function(Plotly) {                    window.PLOTLYENV=window.PLOTLYENV || {};                                    if (document.getElementById(\"24e5df93-d3bc-4e85-b190-4680675a9920\")) {                    Plotly.newPlot(                        \"24e5df93-d3bc-4e85-b190-4680675a9920\",                        [{\"marker\":{\"color\":\"green\"},\"mode\":\"markers\",\"name\":\"Price jump\",\"text\":[\"This is intended for Earth, but there may be some ideas that apply to Mars too\\u2014 Elon Musk (@elonmusk) [February 9, 2021](https://twitter.com/elonmusk/status/1358931403665117184?ref_src=twsrc%5Etfw)\",\"\\ud83e\\udd23\\ud83e\\udd23\\u2014 Elon Musk (@elonmusk) [February 9, 2021](https://twitter.com/elonmusk/status/1358931075880284164?ref_src=twsrc%5Etfw)\",\"Everyone at Tesla receives stock.\\n\\nMy comp is all stock/options, which I do not take off the table.\\n\\nThat\\u2019s what you\\u2019re missing.\\u2014 Elon Musk (@elonmusk) [February 9, 2021](https://twitter.com/elonmusk/status/1358929114166485008?ref_src=twsrc%5Etfw)\",\"XPrize team will manage the $100M carbon capture prize [https://t.co/fSw5IanL0r](https://t.co/fSw5IanL0r)\\u2014 Elon Musk (@elonmusk) [February 9, 2021](https://twitter.com/elonmusk/status/1358930781314322433?ref_src=twsrc%5Etfw)\",\"It\\u2019s meant to be the same price in all countries. Only difference should be taxes & shipping.\\u2014 Elon Musk (@elonmusk) [February 9, 2021](https://twitter.com/elonmusk/status/1358964520522162176?ref_src=twsrc%5Etfw)\",\"[https://t.co/xl441YNnOs](https://t.co/xl441YNnOs)\\u2014 Elon Musk (@elonmusk) [April 26, 2021](https://twitter.com/elonmusk/status/1386562909833109505?ref_src=twsrc%5Etfw)\",\"We just got approval to open a new Supercharger station in Malibu!\\u2014 Elon Musk (@elonmusk) [April 26, 2021](https://twitter.com/elonmusk/status/1386563667706011653?ref_src=twsrc%5Etfw)\"],\"x\":[\"2021-02-09T00:00:00\",\"2021-02-09T00:00:00\",\"2021-02-09T00:00:00\",\"2021-02-09T00:00:00\",\"2021-02-09T02:00:00\",\"2021-04-26T06:00:00\",\"2021-04-26T06:00:00\"],\"y\":[8612.06325,8612.06325,8612.06325,8612.06325,5184.123111111119,6233.6500000000015,6233.6500000000015],\"type\":\"scatter\"},{\"marker\":{\"color\":\"red\"},\"mode\":\"markers\",\"name\":\"Price fall\",\"text\":[\"The Tesla Solar Roof is slightly hydrophobic, so water, snow or ice slide off easily\\u2014 Elon Musk (@elonmusk) [February 22, 2021](https://twitter.com/elonmusk/status/1363944709501067264?ref_src=twsrc%5Etfw)\",\"It is still available off menu, but I don\\u2019t think the range, in many drive conditions, yet meets the Tesla standard of excellence\\u2014 Elon Musk (@elonmusk) [February 22, 2021](https://twitter.com/elonmusk/status/1363946797945679875?ref_src=twsrc%5Etfw)\",\"Later this year\\u2014 Elon Musk (@elonmusk) [February 22, 2021](https://twitter.com/elonmusk/status/1363946926983405573?ref_src=twsrc%5Etfw)\",\"Hopefully, later this year\\u2014 Elon Musk (@elonmusk) [February 22, 2021](https://twitter.com/elonmusk/status/1363946979005399040?ref_src=twsrc%5Etfw)\",\"Tunnels!!\\u2014 Elon Musk (@elonmusk) [February 22, 2021](https://twitter.com/elonmusk/status/1363947211277496320?ref_src=twsrc%5Etfw)\",\"We have too much product complexity already\\u2014 Elon Musk (@elonmusk) [February 22, 2021](https://twitter.com/elonmusk/status/1363993259756945410?ref_src=twsrc%5Etfw)\",\"\\ud83c\\udf46\\u2014 Elon Musk (@elonmusk) [February 23, 2021](https://twitter.com/elonmusk/status/1364128031434887170?ref_src=twsrc%5Etfw)\",\"Super cool\\u2014 Elon Musk (@elonmusk) [February 23, 2021](https://twitter.com/elonmusk/status/1364127406689193986?ref_src=twsrc%5Etfw)\",\"Tesla & Bitcoin [pic.twitter.com/YSswJmVZhP](https://t.co/YSswJmVZhP)\\u2014 Elon Musk (@elonmusk) [May 12, 2021](https://twitter.com/elonmusk/status/1392602041025843203?ref_src=twsrc%5Etfw)\",\"Haha\\u2014 Elon Musk (@elonmusk) [May 12, 2021](https://twitter.com/elonmusk/status/1392594175816724486?ref_src=twsrc%5Etfw)\",\"Energy usage trend over past few months is insane [https://t.co/E6o9s87trw](https://t.co/E6o9s87trw) [pic.twitter.com/bmv9wotwKe](https://t.co/bmv9wotwKe)\\u2014 Elon Musk (@elonmusk) [May 13, 2021](https://twitter.com/elonmusk/status/1392780304138473473?ref_src=twsrc%5Etfw)\",\"Starships to \\u2665\\ufe0f Mars \\u2665\\ufe0f\\u2014 Elon Musk (@elonmusk) [Dec 4, 2021](https://twitter.com/elonmusk/status/1467149074705096713)\"],\"x\":[\"2021-02-22T20:00:00\",\"2021-02-22T20:00:00\",\"2021-02-22T20:00:00\",\"2021-02-22T20:00:00\",\"2021-02-22T20:00:00\",\"2021-02-22T23:00:00\",\"2021-02-23T08:00:00\",\"2021-02-23T08:00:00\",\"2021-05-12T22:00:00\",\"2021-05-12T22:00:00\",\"2021-05-13T10:00:00\",\"2021-12-04T15:00:00\"],\"y\":[-7407.006249999991,-7407.006249999991,-7407.006249999991,-7407.006249999991,-7407.006249999991,-8170.224444444437,-6179.594444444439,-6179.594444444439,-7176.166250000017,-7176.166250000017,-6579.5270588235435,-5230.995555555557],\"type\":\"scatter\"}],                        {\"template\":{\"data\":{\"histogram2dcontour\":[{\"type\":\"histogram2dcontour\",\"colorbar\":{\"outlinewidth\":0,\"ticks\":\"\"},\"colorscale\":[[0.0,\"#0d0887\"],[0.1111111111111111,\"#46039f\"],[0.2222222222222222,\"#7201a8\"],[0.3333333333333333,\"#9c179e\"],[0.4444444444444444,\"#bd3786\"],[0.5555555555555556,\"#d8576b\"],[0.6666666666666666,\"#ed7953\"],[0.7777777777777778,\"#fb9f3a\"],[0.8888888888888888,\"#fdca26\"],[1.0,\"#f0f921\"]]}],\"choropleth\":[{\"type\":\"choropleth\",\"colorbar\":{\"outlinewidth\":0,\"ticks\":\"\"}}],\"histogram2d\":[{\"type\":\"histogram2d\",\"colorbar\":{\"outlinewidth\":0,\"ticks\":\"\"},\"colorscale\":[[0.0,\"#0d0887\"],[0.1111111111111111,\"#46039f\"],[0.2222222222222222,\"#7201a8\"],[0.3333333333333333,\"#9c179e\"],[0.4444444444444444,\"#bd3786\"],[0.5555555555555556,\"#d8576b\"],[0.6666666666666666,\"#ed7953\"],[0.7777777777777778,\"#fb9f3a\"],[0.8888888888888888,\"#fdca26\"],[1.0,\"#f0f921\"]]}],\"heatmap\":[{\"type\":\"heatmap\",\"colorbar\":{\"outlinewidth\":0,\"ticks\":\"\"},\"colorscale\":[[0.0,\"#0d0887\"],[0.1111111111111111,\"#46039f\"],[0.2222222222222222,\"#7201a8\"],[0.3333333333333333,\"#9c179e\"],[0.4444444444444444,\"#bd3786\"],[0.5555555555555556,\"#d8576b\"],[0.6666666666666666,\"#ed7953\"],[0.7777777777777778,\"#fb9f3a\"],[0.8888888888888888,\"#fdca26\"],[1.0,\"#f0f921\"]]}],\"heatmapgl\":[{\"type\":\"heatmapgl\",\"colorbar\":{\"outlinewidth\":0,\"ticks\":\"\"},\"colorscale\":[[0.0,\"#0d0887\"],[0.1111111111111111,\"#46039f\"],[0.2222222222222222,\"#7201a8\"],[0.3333333333333333,\"#9c179e\"],[0.4444444444444444,\"#bd3786\"],[0.5555555555555556,\"#d8576b\"],[0.6666666666666666,\"#ed7953\"],[0.7777777777777778,\"#fb9f3a\"],[0.8888888888888888,\"#fdca26\"],[1.0,\"#f0f921\"]]}],\"contourcarpet\":[{\"type\":\"contourcarpet\",\"colorbar\":{\"outlinewidth\":0,\"ticks\":\"\"}}],\"contour\":[{\"type\":\"contour\",\"colorbar\":{\"outlinewidth\":0,\"ticks\":\"\"},\"colorscale\":[[0.0,\"#0d0887\"],[0.1111111111111111,\"#46039f\"],[0.2222222222222222,\"#7201a8\"],[0.3333333333333333,\"#9c179e\"],[0.4444444444444444,\"#bd3786\"],[0.5555555555555556,\"#d8576b\"],[0.6666666666666666,\"#ed7953\"],[0.7777777777777778,\"#fb9f3a\"],[0.8888888888888888,\"#fdca26\"],[1.0,\"#f0f921\"]]}],\"surface\":[{\"type\":\"surface\",\"colorbar\":{\"outlinewidth\":0,\"ticks\":\"\"},\"colorscale\":[[0.0,\"#0d0887\"],[0.1111111111111111,\"#46039f\"],[0.2222222222222222,\"#7201a8\"],[0.3333333333333333,\"#9c179e\"],[0.4444444444444444,\"#bd3786\"],[0.5555555555555556,\"#d8576b\"],[0.6666666666666666,\"#ed7953\"],[0.7777777777777778,\"#fb9f3a\"],[0.8888888888888888,\"#fdca26\"],[1.0,\"#f0f921\"]]}],\"mesh3d\":[{\"type\":\"mesh3d\",\"colorbar\":{\"outlinewidth\":0,\"ticks\":\"\"}}],\"scatter\":[{\"fillpattern\":{\"fillmode\":\"overlay\",\"size\":10,\"solidity\":0.2},\"type\":\"scatter\"}],\"parcoords\":[{\"type\":\"parcoords\",\"line\":{\"colorbar\":{\"outlinewidth\":0,\"ticks\":\"\"}}}],\"scatterpolargl\":[{\"type\":\"scatterpolargl\",\"marker\":{\"colorbar\":{\"outlinewidth\":0,\"ticks\":\"\"}}}],\"bar\":[{\"error_x\":{\"color\":\"#2a3f5f\"},\"error_y\":{\"color\":\"#2a3f5f\"},\"marker\":{\"line\":{\"color\":\"#E5ECF6\",\"width\":0.5},\"pattern\":{\"fillmode\":\"overlay\",\"size\":10,\"solidity\":0.2}},\"type\":\"bar\"}],\"scattergeo\":[{\"type\":\"scattergeo\",\"marker\":{\"colorbar\":{\"outlinewidth\":0,\"ticks\":\"\"}}}],\"scatterpolar\":[{\"type\":\"scatterpolar\",\"marker\":{\"colorbar\":{\"outlinewidth\":0,\"ticks\":\"\"}}}],\"histogram\":[{\"marker\":{\"pattern\":{\"fillmode\":\"overlay\",\"size\":10,\"solidity\":0.2}},\"type\":\"histogram\"}],\"scattergl\":[{\"type\":\"scattergl\",\"marker\":{\"colorbar\":{\"outlinewidth\":0,\"ticks\":\"\"}}}],\"scatter3d\":[{\"type\":\"scatter3d\",\"line\":{\"colorbar\":{\"outlinewidth\":0,\"ticks\":\"\"}},\"marker\":{\"colorbar\":{\"outlinewidth\":0,\"ticks\":\"\"}}}],\"scattermapbox\":[{\"type\":\"scattermapbox\",\"marker\":{\"colorbar\":{\"outlinewidth\":0,\"ticks\":\"\"}}}],\"scatterternary\":[{\"type\":\"scatterternary\",\"marker\":{\"colorbar\":{\"outlinewidth\":0,\"ticks\":\"\"}}}],\"scattercarpet\":[{\"type\":\"scattercarpet\",\"marker\":{\"colorbar\":{\"outlinewidth\":0,\"ticks\":\"\"}}}],\"carpet\":[{\"aaxis\":{\"endlinecolor\":\"#2a3f5f\",\"gridcolor\":\"white\",\"linecolor\":\"white\",\"minorgridcolor\":\"white\",\"startlinecolor\":\"#2a3f5f\"},\"baxis\":{\"endlinecolor\":\"#2a3f5f\",\"gridcolor\":\"white\",\"linecolor\":\"white\",\"minorgridcolor\":\"white\",\"startlinecolor\":\"#2a3f5f\"},\"type\":\"carpet\"}],\"table\":[{\"cells\":{\"fill\":{\"color\":\"#EBF0F8\"},\"line\":{\"color\":\"white\"}},\"header\":{\"fill\":{\"color\":\"#C8D4E3\"},\"line\":{\"color\":\"white\"}},\"type\":\"table\"}],\"barpolar\":[{\"marker\":{\"line\":{\"color\":\"#E5ECF6\",\"width\":0.5},\"pattern\":{\"fillmode\":\"overlay\",\"size\":10,\"solidity\":0.2}},\"type\":\"barpolar\"}],\"pie\":[{\"automargin\":true,\"type\":\"pie\"}]},\"layout\":{\"autotypenumbers\":\"strict\",\"colorway\":[\"#636efa\",\"#EF553B\",\"#00cc96\",\"#ab63fa\",\"#FFA15A\",\"#19d3f3\",\"#FF6692\",\"#B6E880\",\"#FF97FF\",\"#FECB52\"],\"font\":{\"color\":\"#2a3f5f\"},\"hovermode\":\"closest\",\"hoverlabel\":{\"align\":\"left\"},\"paper_bgcolor\":\"white\",\"plot_bgcolor\":\"#E5ECF6\",\"polar\":{\"bgcolor\":\"#E5ECF6\",\"angularaxis\":{\"gridcolor\":\"white\",\"linecolor\":\"white\",\"ticks\":\"\"},\"radialaxis\":{\"gridcolor\":\"white\",\"linecolor\":\"white\",\"ticks\":\"\"}},\"ternary\":{\"bgcolor\":\"#E5ECF6\",\"aaxis\":{\"gridcolor\":\"white\",\"linecolor\":\"white\",\"ticks\":\"\"},\"baxis\":{\"gridcolor\":\"white\",\"linecolor\":\"white\",\"ticks\":\"\"},\"caxis\":{\"gridcolor\":\"white\",\"linecolor\":\"white\",\"ticks\":\"\"}},\"coloraxis\":{\"colorbar\":{\"outlinewidth\":0,\"ticks\":\"\"}},\"colorscale\":{\"sequential\":[[0.0,\"#0d0887\"],[0.1111111111111111,\"#46039f\"],[0.2222222222222222,\"#7201a8\"],[0.3333333333333333,\"#9c179e\"],[0.4444444444444444,\"#bd3786\"],[0.5555555555555556,\"#d8576b\"],[0.6666666666666666,\"#ed7953\"],[0.7777777777777778,\"#fb9f3a\"],[0.8888888888888888,\"#fdca26\"],[1.0,\"#f0f921\"]],\"sequentialminus\":[[0.0,\"#0d0887\"],[0.1111111111111111,\"#46039f\"],[0.2222222222222222,\"#7201a8\"],[0.3333333333333333,\"#9c179e\"],[0.4444444444444444,\"#bd3786\"],[0.5555555555555556,\"#d8576b\"],[0.6666666666666666,\"#ed7953\"],[0.7777777777777778,\"#fb9f3a\"],[0.8888888888888888,\"#fdca26\"],[1.0,\"#f0f921\"]],\"diverging\":[[0,\"#8e0152\"],[0.1,\"#c51b7d\"],[0.2,\"#de77ae\"],[0.3,\"#f1b6da\"],[0.4,\"#fde0ef\"],[0.5,\"#f7f7f7\"],[0.6,\"#e6f5d0\"],[0.7,\"#b8e186\"],[0.8,\"#7fbc41\"],[0.9,\"#4d9221\"],[1,\"#276419\"]]},\"xaxis\":{\"gridcolor\":\"white\",\"linecolor\":\"white\",\"ticks\":\"\",\"title\":{\"standoff\":15},\"zerolinecolor\":\"white\",\"automargin\":true,\"zerolinewidth\":2},\"yaxis\":{\"gridcolor\":\"white\",\"linecolor\":\"white\",\"ticks\":\"\",\"title\":{\"standoff\":15},\"zerolinecolor\":\"white\",\"automargin\":true,\"zerolinewidth\":2},\"scene\":{\"xaxis\":{\"backgroundcolor\":\"#E5ECF6\",\"gridcolor\":\"white\",\"linecolor\":\"white\",\"showbackground\":true,\"ticks\":\"\",\"zerolinecolor\":\"white\",\"gridwidth\":2},\"yaxis\":{\"backgroundcolor\":\"#E5ECF6\",\"gridcolor\":\"white\",\"linecolor\":\"white\",\"showbackground\":true,\"ticks\":\"\",\"zerolinecolor\":\"white\",\"gridwidth\":2},\"zaxis\":{\"backgroundcolor\":\"#E5ECF6\",\"gridcolor\":\"white\",\"linecolor\":\"white\",\"showbackground\":true,\"ticks\":\"\",\"zerolinecolor\":\"white\",\"gridwidth\":2}},\"shapedefaults\":{\"line\":{\"color\":\"#2a3f5f\"}},\"annotationdefaults\":{\"arrowcolor\":\"#2a3f5f\",\"arrowhead\":0,\"arrowwidth\":1},\"geo\":{\"bgcolor\":\"white\",\"landcolor\":\"#E5ECF6\",\"subunitcolor\":\"white\",\"showland\":true,\"showlakes\":true,\"lakecolor\":\"white\"},\"title\":{\"x\":0.05},\"mapbox\":{\"style\":\"light\"}}},\"title\":{\"text\":\"Bitcoins price movement after Elon Musk's Tweets\"},\"xaxis\":{\"title\":{\"text\":\"Date\"}},\"yaxis\":{\"title\":{\"text\":\"Price Movement\"}}},                        {\"responsive\": true}                    ).then(function(){\n",
       "                            \n",
       "var gd = document.getElementById('24e5df93-d3bc-4e85-b190-4680675a9920');\n",
       "var x = new MutationObserver(function (mutations, observer) {{\n",
       "        var display = window.getComputedStyle(gd).display;\n",
       "        if (!display || display === 'none') {{\n",
       "            console.log([gd, 'removed!']);\n",
       "            Plotly.purge(gd);\n",
       "            observer.disconnect();\n",
       "        }}\n",
       "}});\n",
       "\n",
       "// Listen for the removal of the full notebook cells\n",
       "var notebookContainer = gd.closest('#notebook-container');\n",
       "if (notebookContainer) {{\n",
       "    x.observe(notebookContainer, {childList: true});\n",
       "}}\n",
       "\n",
       "// Listen for the clearing of the current output cell\n",
       "var outputEl = gd.closest('.output');\n",
       "if (outputEl) {{\n",
       "    x.observe(outputEl, {childList: true});\n",
       "}}\n",
       "\n",
       "                        })                };                });            </script>        </div>"
      ]
     },
     "metadata": {},
     "output_type": "display_data"
    }
   ],
   "source": [
    "import pandas as pd\n",
    "import plotly.graph_objects as go\n",
    "\n",
    "# Keyword Matching for dataset\n",
    "crypto_keywords = [\"Bitcoin\", \"cryptocurrency\", \"crypto\"]\n",
    "df['is_crypto_related'] = False\n",
    "\n",
    "for keyword in crypto_keywords:\n",
    "    df['is_crypto_related'] |= df['MESSAGE'].str.contains(keyword, case=False)\n",
    "\n",
    "# merging the datasets\n",
    "df['date'] = pd.to_datetime(df['date'])\n",
    "btc_dataset['date'] = pd.to_datetime(btc_dataset['date'])\n",
    "merged_data = pd.merge_asof(df, btc_dataset, left_on='date', right_on='date')\n",
    "grouped_data = merged_data.groupby('SENDER')\n",
    "\n",
    "# Mean Bitcoin before and after\n",
    "hours_before = 24 \n",
    "hours_after = 12  \n",
    "\n",
    "mean_prices = []\n",
    "dates = []\n",
    "tweets = []\n",
    "\n",
    "for sender, data in grouped_data:\n",
    "    tweet_dates = data['date']\n",
    "    tweet_texts = data['MESSAGE']\n",
    "    for tweet_date, tweet_text in zip(tweet_dates, tweet_texts):\n",
    "        start_time = tweet_date - pd.Timedelta(hours=hours_before)\n",
    "        end_time = tweet_date + pd.Timedelta(hours=hours_after)\n",
    "        prices_before = data[(data['date'] >= start_time) & (data['date'] < tweet_date)]['close']\n",
    "        prices_after = data[(data['date'] > tweet_date) & (data['date'] <= end_time)]['close']\n",
    "        mean_before = prices_before.mean()\n",
    "        mean_after = prices_after.mean()\n",
    "        mean_prices.append(mean_after - mean_before)\n",
    "        dates.append(tweet_date)\n",
    "        tweets.append(tweet_text)\n",
    "\n",
    "result_df = pd.DataFrame({'date': dates, 'price_change': mean_prices, 'tweet': tweets})\n",
    "\n",
    "# defining threshold for the price movement\n",
    "threshold = 5000\n",
    "significant_changes = result_df[abs(result_df['price_change']) > threshold]\n",
    "\n",
    "# falls and jumps\n",
    "price_jumps = significant_changes[significant_changes['price_change'] > 0]\n",
    "price_falls = significant_changes[significant_changes['price_change'] < 0]\n",
    "\n",
    "fig = go.Figure()\n",
    "fig.add_trace(go.Scatter(x=price_jumps['date'], y=price_jumps['price_change'],\n",
    "                         mode='markers', marker=dict(color='green'), name='Price jump',\n",
    "                         text=price_jumps['tweet']))\n",
    "fig.add_trace(go.Scatter(x=price_falls['date'], y=price_falls['price_change'],\n",
    "                         mode='markers', marker=dict(color='red'), name='Price fall',\n",
    "                         text=price_falls['tweet']))\n",
    "fig.update_layout(title='Bitcoins price movement after Elon Musk\\'s Tweets',\n",
    "                  xaxis=dict(title='Date'),\n",
    "                  yaxis=dict(title='Price Movement'))\n",
    "fig.show()\n"
   ]
  },
  {
   "cell_type": "code",
   "execution_count": 118,
   "id": "e2d68375",
   "metadata": {},
   "outputs": [
    {
     "name": "stdout",
     "output_type": "stream",
     "text": [
      "Cryptocurrency explained [https://t.co/kUXaXx8a1R](https://t.co/kUXaXx8a1R)— Elon Musk (@elonmusk) [February 20, 2021](https://twitter.com/elonmusk/status/1363272961684201472?ref_src=twsrc%5Etfw)\n",
      "Why don’t we have these already!?— Elon Musk (@elonmusk) [February 21, 2021](https://twitter.com/elonmusk/status/1363295255676653576?ref_src=twsrc%5Etfw)\n",
      "🤣🤣— Elon Musk (@elonmusk) [February 21, 2021](https://twitter.com/elonmusk/status/1363476057169432579?ref_src=twsrc%5Etfw)\n",
      "Should we?— Elon Musk (@elonmusk) [February 21, 2021](https://twitter.com/elonmusk/status/1363476143735595014?ref_src=twsrc%5Etfw)\n",
      "Good chance of flying this week!— Elon Musk (@elonmusk) [February 21, 2021](https://twitter.com/elonmusk/status/1363600651712794624?ref_src=twsrc%5Etfw)\n",
      "Dojo 4 Doge— Elon Musk (@elonmusk) [February 21, 2021](https://twitter.com/elonmusk/status/1363601164344823810?ref_src=twsrc%5Etfw)\n",
      "Hypernominalization— Elon Musk (@elonmusk) [February 21, 2021](https://twitter.com/elonmusk/status/1363609428281360386?ref_src=twsrc%5Etfw)\n",
      "Solar Roof even clears off the snow— Tesla (@Tesla) [February 21, 2021](https://twitter.com/Tesla/status/1363595197926539268?ref_src=twsrc%5Etfw)\n",
      "Of spaceflight— Elon Musk (@elonmusk) [February 21, 2021](https://twitter.com/elonmusk/status/1363627518830338051?ref_src=twsrc%5Etfw)\n"
     ]
    }
   ],
   "source": [
    "tweet_date = '2021-02-21'  \n",
    "\n",
    "filtered_df = df[df['date'].dt.date == pd.to_datetime(tweet_date).date()]\n",
    "\n",
    "if not filtered_df.empty:\n",
    "    tweet_texts = filtered_df['MESSAGE'].tolist()\n",
    "    for tweet_text in tweet_texts:\n",
    "        print(tweet_text)\n",
    "else:\n",
    "    print('Keine Tweets für das angegebene Datum gefunden.')\n"
   ]
  }
 ],
 "metadata": {
  "kernelspec": {
   "display_name": "Python 3 (ipykernel)",
   "language": "python",
   "name": "python3"
  },
  "language_info": {
   "codemirror_mode": {
    "name": "ipython",
    "version": 3
   },
   "file_extension": ".py",
   "mimetype": "text/x-python",
   "name": "python",
   "nbconvert_exporter": "python",
   "pygments_lexer": "ipython3",
   "version": "3.9.13"
  }
 },
 "nbformat": 4,
 "nbformat_minor": 5
}
