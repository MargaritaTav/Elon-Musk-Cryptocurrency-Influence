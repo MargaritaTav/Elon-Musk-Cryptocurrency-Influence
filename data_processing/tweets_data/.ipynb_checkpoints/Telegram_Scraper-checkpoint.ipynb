{
 "cells": [
  {
   "cell_type": "code",
   "execution_count": 2,
   "id": "396308f4-737f-4e68-aaf2-2daf04c859e8",
   "metadata": {},
   "outputs": [
    {
     "name": "stdout",
     "output_type": "stream",
     "text": [
      "Requirement already satisfied: telethon in c:\\users\\user\\anaconda3\\lib\\site-packages (1.28.5)\n",
      "Requirement already satisfied: pyaes in c:\\users\\user\\anaconda3\\lib\\site-packages (from telethon) (1.6.1)\n",
      "Requirement already satisfied: rsa in c:\\users\\user\\anaconda3\\lib\\site-packages (from telethon) (4.9)\n",
      "Requirement already satisfied: pyasn1>=0.1.3 in c:\\users\\user\\anaconda3\\lib\\site-packages (from rsa->telethon) (0.5.0)\n"
     ]
    }
   ],
   "source": [
    "! pip install telethon"
   ]
  },
  {
   "cell_type": "code",
   "execution_count": null,
   "id": "8eb14567-12ad-42d4-a39c-0ad0f30c38f3",
   "metadata": {},
   "outputs": [],
   "source": [
    "import pandas as pd\n",
    "from telethon.sync import TelegramClient\n",
    "\n",
    "name = 'anon' \n",
    "api_id = input()\n",
    "api_hash = input() \n",
    "chat = 't.me/elonmusktwitter'\n",
    "\n",
    "data = [] # stores all our data \n",
    "\n",
    "async with TelegramClient(name, api_id, api_hash) as client:\n",
    "    async for message in client.iter_messages(chat):\n",
    "        data.append([message.sender_id, message.text, message.date])\n",
    "\n",
    "\n",
    "df = pd.DataFrame(data, columns=['SENDER', 'MESSAGE', 'DATE']) # creates a new dataframe\n",
    "\n",
    "\n"
   ]
  },
  {
   "cell_type": "code",
   "execution_count": 59,
   "id": "f45bb65f-fc29-450d-9b89-a79096a18699",
   "metadata": {},
   "outputs": [],
   "source": [
    "oldtweets = pd.read_csv(\"oldtweets.csv\")\n",
    "timetextold = oldtweets[['text', 'Timestamp']]\n",
    "timetextnew = df[['MESSAGE', \"DATE\"]]\n",
    "timetextold = timetextold.rename(columns={'text': 'MESSAGE', 'Timestamp': 'DATE'})\n",
    "newdf= pd.concat([ timetextnew, timetextold], join = 'outer')\n"
   ]
  },
  {
   "cell_type": "code",
   "execution_count": 60,
   "id": "2583a2a5-079a-4839-a5f4-6d4f431a0475",
   "metadata": {},
   "outputs": [],
   "source": [
    "newdf['DATE'] = pd.to_datetime(c['DATE'], utc = True)\n",
    "newdf = newdf.sort_values(by = ['DATE'], ascending = True)\n",
    "newdf = newdf.drop_duplicates(subset = ['DATE'])\n",
    "newdf.to_csv('musktweetsnew.csv') "
   ]
  }
 ],
 "metadata": {
  "kernelspec": {
   "display_name": "Python 3",
   "language": "python",
   "name": "python3"
  },
  "language_info": {
   "codemirror_mode": {
    "name": "ipython",
    "version": 3
   },
   "file_extension": ".py",
   "mimetype": "text/x-python",
   "name": "python",
   "nbconvert_exporter": "python",
   "pygments_lexer": "ipython3",
   "version": "3.8.8"
  }
 },
 "nbformat": 4,
 "nbformat_minor": 5
}
