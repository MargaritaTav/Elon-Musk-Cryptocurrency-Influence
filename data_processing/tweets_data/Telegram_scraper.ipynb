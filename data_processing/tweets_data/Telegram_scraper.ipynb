{
 "cells": [
  {
   "cell_type": "code",
   "execution_count": null,
   "id": "396308f4-737f-4e68-aaf2-2daf04c859e8",
   "metadata": {},
   "outputs": [],
   "source": [
    "! pip install telethon"
   ]
  },
  {
   "cell_type": "code",
   "execution_count": null,
   "id": "8eb14567-12ad-42d4-a39c-0ad0f30c38f3",
   "metadata": {},
   "outputs": [],
   "source": [
    "import pandas as pd\n",
    "from telethon.sync import TelegramClient\n",
    "\n",
    "name = 'anon' \n",
    "api_id = input()\n",
    "api_hash = input() \n",
    "chat = 't.me/elonmusktwitter'\n",
    "\n",
    "data = [] # stores all our data \n",
    "\n",
    "async with TelegramClient(name, api_id, api_hash) as client:\n",
    "    async for message in client.iter_messages(chat):\n",
    "        data.append([message.sender_id, message.text, message.date])\n",
    "\n",
    "\n",
    "df = pd.DataFrame(data, columns=['SENDER', 'MESSAGE', 'DATE']) # creates a new dataframe\n",
    "\n",
    "\n",
    "df.to_csv('elonmusktweetsnew.csv', encoding='utf-8') # save to a CSV file"
   ]
  }
 ],
 "metadata": {
  "kernelspec": {
   "display_name": "Python 3",
   "language": "python",
   "name": "python3"
  },
  "language_info": {
   "codemirror_mode": {
    "name": "ipython",
    "version": 3
   },
   "file_extension": ".py",
   "mimetype": "text/x-python",
   "name": "python",
   "nbconvert_exporter": "python",
   "pygments_lexer": "ipython3",
   "version": "3.8.8"
  }
 },
 "nbformat": 4,
 "nbformat_minor": 5
}
