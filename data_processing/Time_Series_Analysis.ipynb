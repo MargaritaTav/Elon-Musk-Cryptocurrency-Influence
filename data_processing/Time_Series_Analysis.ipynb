{
 "cells": [
  {
   "cell_type": "code",
   "execution_count": 72,
   "id": "2d628a55-30e4-4fc6-a188-8da98fee8a75",
   "metadata": {},
   "outputs": [],
   "source": [
    "import pandas as pd\n",
    "import matplotlib.pyplot as plt\n",
    "%matplotlib inline\n",
    "import seaborn as sns"
   ]
  },
  {
   "cell_type": "code",
   "execution_count": 73,
   "id": "61ee2a13",
   "metadata": {},
   "outputs": [],
   "source": [
    "import numpy as np"
   ]
  },
  {
   "cell_type": "code",
   "execution_count": 74,
   "id": "ce12f191",
   "metadata": {},
   "outputs": [
    {
     "name": "stdout",
     "output_type": "stream",
     "text": [
      "^C\n"
     ]
    }
   ],
   "source": [
    "! pip install \"numpy>=1.16.5,<1.23.0\""
   ]
  },
  {
   "cell_type": "code",
   "execution_count": 75,
   "id": "1f46f400-28ba-44af-9f6a-92f72ec594dd",
   "metadata": {},
   "outputs": [],
   "source": [
    "all_tweets= pd.read_csv(\"musktweets.csv\", index_col = [0])"
   ]
  },
  {
   "cell_type": "code",
   "execution_count": 98,
   "id": "e534d179-bda2-4a85-bfff-c77c10c43ae6",
   "metadata": {},
   "outputs": [
    {
     "data": {
      "text/html": [
       "<div>\n",
       "<style scoped>\n",
       "    .dataframe tbody tr th:only-of-type {\n",
       "        vertical-align: middle;\n",
       "    }\n",
       "\n",
       "    .dataframe tbody tr th {\n",
       "        vertical-align: top;\n",
       "    }\n",
       "\n",
       "    .dataframe thead th {\n",
       "        text-align: right;\n",
       "    }\n",
       "</style>\n",
       "<table border=\"1\" class=\"dataframe\">\n",
       "  <thead>\n",
       "    <tr style=\"text-align: right;\">\n",
       "      <th></th>\n",
       "      <th>MESSAGE</th>\n",
       "      <th>date</th>\n",
       "    </tr>\n",
       "  </thead>\n",
       "  <tbody>\n",
       "    <tr>\n",
       "      <th>0</th>\n",
       "      <td>Please ignore prior tweets, as that was someon...</td>\n",
       "      <td>2010-06-04 18:31:57+00:00</td>\n",
       "    </tr>\n",
       "    <tr>\n",
       "      <th>1</th>\n",
       "      <td>Went to Iceland on Sat to ride bumper cars on ...</td>\n",
       "      <td>2011-12-01 09:55:11+00:00</td>\n",
       "    </tr>\n",
       "    <tr>\n",
       "      <th>2</th>\n",
       "      <td>I made the volume on the Model S http://ow.ly/...</td>\n",
       "      <td>2011-12-01 10:29:04+00:00</td>\n",
       "    </tr>\n",
       "    <tr>\n",
       "      <th>3</th>\n",
       "      <td>Great Voltaire quote, arguably better than Twa...</td>\n",
       "      <td>2011-12-03 08:20:28+00:00</td>\n",
       "    </tr>\n",
       "    <tr>\n",
       "      <th>4</th>\n",
       "      <td>That was a total non sequitur btw\\n26\\n14\\n50</td>\n",
       "      <td>2011-12-03 08:22:07+00:00</td>\n",
       "    </tr>\n",
       "  </tbody>\n",
       "</table>\n",
       "</div>"
      ],
      "text/plain": [
       "                                             MESSAGE  \\\n",
       "0  Please ignore prior tweets, as that was someon...   \n",
       "1  Went to Iceland on Sat to ride bumper cars on ...   \n",
       "2  I made the volume on the Model S http://ow.ly/...   \n",
       "3  Great Voltaire quote, arguably better than Twa...   \n",
       "4      That was a total non sequitur btw\\n26\\n14\\n50   \n",
       "\n",
       "                        date  \n",
       "0  2010-06-04 18:31:57+00:00  \n",
       "1  2011-12-01 09:55:11+00:00  \n",
       "2  2011-12-01 10:29:04+00:00  \n",
       "3  2011-12-03 08:20:28+00:00  \n",
       "4  2011-12-03 08:22:07+00:00  "
      ]
     },
     "execution_count": 98,
     "metadata": {},
     "output_type": "execute_result"
    }
   ],
   "source": [
    "all_tweets.head()"
   ]
  },
  {
   "cell_type": "code",
   "execution_count": 99,
   "id": "4c71b3ea-9964-4447-a418-6db813891cfc",
   "metadata": {},
   "outputs": [],
   "source": [
    "# Filter the data using keywords\n",
    "all_tweets['MESSAGE'].fillna('', inplace=True)\n",
    "keywords = ['Bitcoin', 'BTC', 'Bit coin', 'bitcoin']\n",
    "\n",
    "filtered_dataset = all_tweets[all_tweets['MESSAGE'].str.contains('|'.join(keywords), case=False)]\n"
   ]
  },
  {
   "cell_type": "code",
   "execution_count": 78,
   "id": "b25602c3-87c9-4cd5-ad70-44d5b63e42e7",
   "metadata": {},
   "outputs": [],
   "source": [
    "# Upload Bitcoin dataset with historical data\n",
    "btc_dataset = pd.read_csv(\"BTC-Hourly.csv\")\n"
   ]
  },
  {
   "cell_type": "code",
   "execution_count": 79,
   "id": "41610732-951a-491b-be2c-572e640cf120",
   "metadata": {},
   "outputs": [],
   "source": [
    "btc_dataset.drop('high', axis=1, inplace=True)\n",
    "btc_dataset.drop('low', axis=1, inplace=True)\n",
    "btc_dataset.drop('symbol', axis=1, inplace=True)\n",
    "btc_dataset.drop('Volume BTC', axis=1, inplace=True)\n",
    "btc_dataset.drop('Volume USD', axis=1, inplace=True)"
   ]
  },
  {
   "cell_type": "code",
   "execution_count": 110,
   "id": "bf598274-c298-47ca-b53b-a02b404a1629",
   "metadata": {},
   "outputs": [],
   "source": [
    "#filtered_dataset.loc[:, 'date'] = filtered_dataset['date'].dt.floor('H')\n",
    "filtered_dataset['date'] = pd.to_datetime(filtered_dataset['date'], utc=True)\n",
    "btc_dataset['date'] = pd.to_datetime(btc_dataset['date'], utc=True)"
   ]
  },
  {
   "cell_type": "code",
   "execution_count": 103,
   "id": "8940fcc5",
   "metadata": {},
   "outputs": [],
   "source": [
    "filtered_dataset.loc[:, 'date'] = filtered_dataset['date'].dt.floor('H')"
   ]
  },
  {
   "cell_type": "code",
   "execution_count": 111,
   "id": "3b1e32a0",
   "metadata": {},
   "outputs": [
    {
     "data": {
      "text/plain": [
       "unix                   int64\n",
       "date     datetime64[ns, UTC]\n",
       "open                 float64\n",
       "close                float64\n",
       "dtype: object"
      ]
     },
     "execution_count": 111,
     "metadata": {},
     "output_type": "execute_result"
    }
   ],
   "source": [
    "btc_dataset.dtypes"
   ]
  },
  {
   "cell_type": "code",
   "execution_count": 105,
   "id": "a147715b",
   "metadata": {},
   "outputs": [],
   "source": [
    "filtered_dataset = filtered_dataset.reset_index(drop = True)"
   ]
  },
  {
   "cell_type": "code",
   "execution_count": 112,
   "id": "085325ab",
   "metadata": {},
   "outputs": [
    {
     "name": "stdout",
     "output_type": "stream",
     "text": [
      "Tweet Date: 2018-05-24 00:00:00+00:00, Mean before tweet: 7690.420833333334, Mean after tweet: 7538.780833333333\n",
      "Tweet Date: 2018-10-22 23:00:00+00:00, Mean before tweet: 6399.050833333334, Mean after tweet: 6397.48\n",
      "Tweet Date: 2019-02-21 10:00:00+00:00, Mean before tweet: 3927.7033333333334, Mean after tweet: 3893.2258333333334\n",
      "Tweet Date: 2019-02-21 10:00:00+00:00, Mean before tweet: 3927.7033333333334, Mean after tweet: 3893.2258333333334\n",
      "Tweet Date: 2019-02-21 10:00:00+00:00, Mean before tweet: 3927.7033333333334, Mean after tweet: 3893.2258333333334\n",
      "Tweet Date: 2019-04-02 20:00:00+00:00, Mean before tweet: 4755.770833333333, Mean after tweet: 4946.2525\n",
      "Tweet Date: 2019-04-14 22:00:00+00:00, Mean before tweet: 5080.473333333333, Mean after tweet: 5161.690833333334\n",
      "Tweet Date: 2020-01-10 06:00:00+00:00, Mean before tweet: 7810.149166666667, Mean after tweet: 7876.296666666666\n",
      "Tweet Date: 2020-01-10 06:00:00+00:00, Mean before tweet: 7810.149166666667, Mean after tweet: 7876.296666666666\n",
      "Tweet Date: 2020-01-10 07:00:00+00:00, Mean before tweet: 7805.422500000001, Mean after tweet: 7902.943333333333\n",
      "Tweet Date: 2020-05-01 22:00:00+00:00, Mean before tweet: 8812.123333333335, Mean after tweet: 8819.536666666665\n",
      "Tweet Date: 2020-05-01 22:00:00+00:00, Mean before tweet: 8812.123333333335, Mean after tweet: 8819.536666666665\n",
      "Tweet Date: 2020-05-01 23:00:00+00:00, Mean before tweet: 8810.971666666666, Mean after tweet: 8820.9\n",
      "Tweet Date: 2020-05-15 22:00:00+00:00, Mean before tweet: 9489.199166666667, Mean after tweet: 9419.654999999999\n",
      "Tweet Date: 2020-05-15 22:00:00+00:00, Mean before tweet: 9489.199166666667, Mean after tweet: 9419.654999999999\n",
      "Tweet Date: 2020-05-15 22:00:00+00:00, Mean before tweet: 9489.199166666667, Mean after tweet: 9419.654999999999\n",
      "Tweet Date: 2020-07-15 20:00:00+00:00, Mean before tweet: 9214.616666666667, Mean after tweet: 9183.441666666668\n",
      "Tweet Date: 2020-07-15 20:00:00+00:00, Mean before tweet: 9214.616666666667, Mean after tweet: 9183.441666666668\n",
      "Tweet Date: 2020-11-16 22:00:00+00:00, Mean before tweet: 16501.60666666667, Mean after tweet: 16699.55416666667\n",
      "Tweet Date: 2020-12-20 08:00:00+00:00, Mean before tweet: 23651.11333333333, Mean after tweet: 23703.07416666667\n",
      "Tweet Date: 2020-12-20 08:00:00+00:00, Mean before tweet: 23651.11333333333, Mean after tweet: 23703.07416666667\n",
      "Tweet Date: 2020-12-20 09:00:00+00:00, Mean before tweet: 23635.208333333332, Mean after tweet: 23685.429999999997\n",
      "Tweet Date: 2020-12-20 10:00:00+00:00, Mean before tweet: 23615.35666666667, Mean after tweet: 23694.653333333335\n",
      "Tweet Date: 2021-01-28 22:00:00+00:00, Mean before tweet: 32041.165833333333, Mean after tweet: 34231.59416666666\n",
      "Tweet Date: 2021-02-08 05:00:00+00:00, Mean before tweet: 38431.1025, Mean after tweet: 41314.29833333333\n",
      "Tweet Date: 2021-02-08 05:00:00+00:00, Mean before tweet: 38431.1025, Mean after tweet: 41314.29833333333\n",
      "Tweet Date: 2021-02-19 03:00:00+00:00, Mean before tweet: 51798.831666666665, Mean after tweet: 52360.527500000004\n",
      "Tweet Date: 2021-02-19 03:00:00+00:00, Mean before tweet: 51798.831666666665, Mean after tweet: 52360.527500000004\n",
      "Tweet Date: 2021-02-19 03:00:00+00:00, Mean before tweet: 51798.831666666665, Mean after tweet: 52360.527500000004\n",
      "Tweet Date: 2021-02-19 03:00:00+00:00, Mean before tweet: 51798.831666666665, Mean after tweet: 52360.527500000004\n",
      "Tweet Date: 2021-02-20 07:00:00+00:00, Mean before tweet: 55728.09166666667, Mean after tweet: 56500.738333333335\n",
      "Tweet Date: 2021-02-20 07:00:00+00:00, Mean before tweet: 55728.09166666667, Mean after tweet: 56500.738333333335\n",
      "Tweet Date: 2021-02-20 23:00:00+00:00, Mean before tweet: 56727.52583333334, Mean after tweet: 56609.964166666665\n",
      "Tweet Date: 2021-03-12 18:00:00+00:00, Mean before tweet: 56641.975, Mean after tweet: 56817.42083333334\n",
      "Tweet Date: 2021-03-24 07:00:00+00:00, Mean before tweet: 54439.97666666666, Mean after tweet: 56174.16416666666\n",
      "Tweet Date: 2021-03-24 07:00:00+00:00, Mean before tweet: 54439.97666666666, Mean after tweet: 56174.16416666666\n",
      "Tweet Date: 2021-03-24 07:00:00+00:00, Mean before tweet: 54439.97666666666, Mean after tweet: 56174.16416666666\n",
      "Tweet Date: 2021-03-24 07:00:00+00:00, Mean before tweet: 54439.97666666666, Mean after tweet: 56174.16416666666\n",
      "Tweet Date: 2021-04-26 23:00:00+00:00, Mean before tweet: 53675.508333333324, Mean after tweet: 54250.86333333334\n",
      "Tweet Date: 2021-04-26 23:00:00+00:00, Mean before tweet: 53675.508333333324, Mean after tweet: 54250.86333333334\n",
      "Tweet Date: 2021-04-27 21:00:00+00:00, Mean before tweet: 54867.320833333324, Mean after tweet: 54807.97166666666\n",
      "Tweet Date: 2021-05-12 22:00:00+00:00, Mean before tweet: 55612.98583333333, Mean after tweet: 50220.66166666666\n",
      "Tweet Date: 2021-05-12 22:00:00+00:00, Mean before tweet: 55612.98583333333, Mean after tweet: 50220.66166666666\n",
      "Tweet Date: 2021-05-13 20:00:00+00:00, Mean before tweet: 49584.56916666666, Mean after tweet: 49644.84249999999\n",
      "Tweet Date: 2021-05-16 18:00:00+00:00, Mean before tweet: 48698.69666666668, Mean after tweet: 44716.50083333333\n",
      "Tweet Date: 2021-05-16 18:00:00+00:00, Mean before tweet: 48698.69666666668, Mean after tweet: 44716.50083333333\n",
      "Tweet Date: 2021-05-16 18:00:00+00:00, Mean before tweet: 48698.69666666668, Mean after tweet: 44716.50083333333\n",
      "Tweet Date: 2021-05-16 18:00:00+00:00, Mean before tweet: 48698.69666666668, Mean after tweet: 44716.50083333333\n",
      "Tweet Date: 2021-05-16 19:00:00+00:00, Mean before tweet: 48610.12666666667, Mean after tweet: 44685.362499999996\n",
      "Tweet Date: 2021-05-17 05:00:00+00:00, Mean before tweet: 45380.744999999995, Mean after tweet: 44472.65083333334\n",
      "Tweet Date: 2021-05-17 06:00:00+00:00, Mean before tweet: 45071.60749999999, Mean after tweet: 44406.010833333334\n",
      "Tweet Date: 2021-05-20 20:00:00+00:00, Mean before tweet: 40575.53333333333, Mean after tweet: 40739.31416666667\n",
      "Tweet Date: 2021-05-21 01:00:00+00:00, Mean before tweet: 40765.60083333334, Mean after tweet: 40608.82583333333\n",
      "Tweet Date: 2021-05-24 19:00:00+00:00, Mean before tweet: 37188.475, Mean after tweet: 38724.28166666667\n",
      "Tweet Date: 2021-05-24 20:00:00+00:00, Mean before tweet: 37340.16333333334, Mean after tweet: 38656.24416666667\n",
      "Tweet Date: 2021-05-26 18:00:00+00:00, Mean before tweet: 39689.285833333335, Mean after tweet: 38414.65416666667\n",
      "Tweet Date: 2021-06-04 01:00:00+00:00, Mean before tweet: 38759.915, Mean after tweet: 36997.32583333333\n",
      "Tweet Date: 2021-06-05 08:00:00+00:00, Mean before tweet: 37392.57916666667, Mean after tweet: 36025.915\n",
      "Tweet Date: 2021-06-06 22:00:00+00:00, Mean before tweet: 35980.655, Mean after tweet: 36305.39833333334\n",
      "Tweet Date: 2021-06-06 22:00:00+00:00, Mean before tweet: 35980.655, Mean after tweet: 36305.39833333334\n",
      "Tweet Date: 2021-06-13 17:00:00+00:00, Mean before tweet: 35639.129166666666, Mean after tweet: 38863.15333333334\n",
      "Tweet Date: 2021-06-13 18:00:00+00:00, Mean before tweet: 35798.409999999996, Mean after tweet: 39036.232500000006\n",
      "Tweet Date: 2021-06-17 11:00:00+00:00, Mean before tweet: 38898.785, Mean after tweet: 38222.15333333333\n",
      "Tweet Date: 2021-06-17 11:00:00+00:00, Mean before tweet: 38898.785, Mean after tweet: 38222.15333333333\n",
      "Tweet Date: 2021-06-25 02:00:00+00:00, Mean before tweet: 34584.15333333334, Mean after tweet: 33910.20916666666\n",
      "Tweet Date: 2021-06-25 02:00:00+00:00, Mean before tweet: 34584.15333333334, Mean after tweet: 33910.20916666666\n",
      "Tweet Date: 2021-06-25 02:00:00+00:00, Mean before tweet: 34584.15333333334, Mean after tweet: 33910.20916666666\n",
      "Tweet Date: 2021-06-25 02:00:00+00:00, Mean before tweet: 34584.15333333334, Mean after tweet: 33910.20916666666\n",
      "Tweet Date: 2021-06-25 02:00:00+00:00, Mean before tweet: 34584.15333333334, Mean after tweet: 33910.20916666666\n",
      "Tweet Date: 2021-06-25 02:00:00+00:00, Mean before tweet: 34584.15333333334, Mean after tweet: 33910.20916666666\n",
      "Tweet Date: 2021-07-09 07:00:00+00:00, Mean before tweet: 32830.801666666666, Mean after tweet: 33236.846666666665\n",
      "Tweet Date: 2021-07-09 07:00:00+00:00, Mean before tweet: 32830.801666666666, Mean after tweet: 33236.846666666665\n",
      "Tweet Date: 2021-07-19 19:00:00+00:00, Mean before tweet: 31076.24416666667, Mean after tweet: 30279.590833333332\n",
      "Tweet Date: 2021-07-19 19:00:00+00:00, Mean before tweet: 31076.24416666667, Mean after tweet: 30279.590833333332\n",
      "Tweet Date: 2021-07-19 20:00:00+00:00, Mean before tweet: 30980.425, Mean after tweet: 30183.900833333333\n",
      "Tweet Date: 2021-07-19 20:00:00+00:00, Mean before tweet: 30980.425, Mean after tweet: 30183.900833333333\n",
      "Tweet Date: 2021-07-29 00:00:00+00:00, Mean before tweet: 39936.28166666667, Mean after tweet: 39931.675833333335\n",
      "Tweet Date: 2021-09-18 06:00:00+00:00, Mean before tweet: 47454.42916666666, Mean after tweet: 48465.15166666667\n",
      "Tweet Date: 2021-10-24 17:00:00+00:00, Mean before tweet: 60566.48583333333, Mean after tweet: 61355.085\n",
      "Tweet Date: 2021-10-24 18:00:00+00:00, Mean before tweet: 60512.56, Mean after tweet: 61513.805000000015\n",
      "Tweet Date: 2021-10-24 18:00:00+00:00, Mean before tweet: 60512.56, Mean after tweet: 61513.805000000015\n",
      "Tweet Date: 2021-10-27 21:00:00+00:00, Mean before tweet: 58966.48249999999, Mean after tweet: 59172.82083333334\n",
      "Tweet Date: 2021-11-20 06:00:00+00:00, Mean before tweet: 58250.6925, Mean after tweet: 58446.29\n",
      "Tweet Date: 2021-12-16 20:00:00+00:00, Mean before tweet: 48707.52, Mean after tweet: 47685.9475\n",
      "Tweet Date: 2021-12-16 21:00:00+00:00, Mean before tweet: 48635.17083333334, Mean after tweet: 47613.892499999994\n"
     ]
    }
   ],
   "source": [
    "# Sort the btc_dataset by date\n",
    "btc_dataset = btc_dataset.sort_values('date')\n",
    "filtered_dataset.loc[:, 'tweeted'] = filtered_dataset['date'].apply(\n",
    "    lambda x: 1 if any((x - pd.Timedelta(hours=1) < btc_dataset['date']) & (btc_dataset['date'] <= x)) else 0\n",
    ")\n",
    "\n",
    "# Calculate the mean before and after each tweet\n",
    "tweet_impact = []\n",
    "for i, row in filtered_dataset.iterrows():\n",
    "    if row['tweeted'] == 1:\n",
    "        tweet_time = row['date']\n",
    "        before_tweet = btc_dataset[btc_dataset['date'] < tweet_time].tail(12)\n",
    "        after_tweet = btc_dataset[btc_dataset['date'] > tweet_time].head(12)\n",
    "        mean_before_tweet = before_tweet['open'].mean()\n",
    "        mean_after_tweet = after_tweet['close'].mean()\n",
    "        tweet_impact.append((tweet_time, mean_before_tweet, mean_after_tweet))  # Include tweet_time in the tuple\n",
    "\n",
    "for impact in tweet_impact:\n",
    "    print(f\"Tweet Date: {impact[0]}, Mean before tweet: {impact[1]}, Mean after tweet: {impact[2]}\")\n"
   ]
  },
  {
   "cell_type": "code",
   "execution_count": 113,
   "id": "fd996809-717f-4488-84c6-9667d67e96b0",
   "metadata": {},
   "outputs": [
    {
     "data": {
      "image/png": "[encoded data removed]",
      "text/plain": [
       "<Figure size 720x432 with 1 Axes>"
      ]
     },
     "metadata": {
      "needs_background": "light"
     },
     "output_type": "display_data"
    }
   ],
   "source": [
    "# Sort the tweet impact by the difference in means\n",
    "tweet_impact.sort(key=lambda x: abs(x[2] - x[1]), reverse=True)\n",
    "\n",
    "# Get the 15 most important tweets\n",
    "top_tweets = tweet_impact[:10]\n",
    "\n",
    "# Prepare data for visualization\n",
    "dates = [tweet[0].strftime(\"%Y-%m-%d %H:%M\") for tweet in top_tweets]\n",
    "mean_before = [tweet[1] for tweet in top_tweets]\n",
    "mean_after = [tweet[2] for tweet in top_tweets]\n",
    "\n",
    "# Create the line plot\n",
    "fig, ax = plt.subplots(figsize=(10, 6))\n",
    "ax.plot(dates, mean_before, marker='o', label='Mean Before')\n",
    "ax.plot(dates, mean_after, marker='o', label='Mean After')\n",
    "ax.set_xlabel('Tweet Timestamp')\n",
    "ax.set_ylabel('Bitcoin Opening Price Mean')\n",
    "ax.set_title('Impact of Elon Musk Tweets on Bitcoin Prices')\n",
    "ax.legend()\n",
    "plt.xticks(rotation=45)\n",
    "plt.tight_layout()\n",
    "plt.show()"
   ]
  },
  {
   "cell_type": "code",
   "execution_count": null,
   "id": "ce1505a7",
   "metadata": {},
   "outputs": [],
   "source": []
  }
 ],
 "metadata": {
  "kernelspec": {
   "display_name": "Python 3",
   "language": "python",
   "name": "python3"
  },
  "language_info": {
   "codemirror_mode": {
    "name": "ipython",
    "version": 3
   },
   "file_extension": ".py",
   "mimetype": "text/x-python",
   "name": "python",
   "nbconvert_exporter": "python",
   "pygments_lexer": "ipython3",
   "version": "3.8.8"
  }
 },
 "nbformat": 4,
 "nbformat_minor": 5
}
